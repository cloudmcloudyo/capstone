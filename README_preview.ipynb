{
 "cells": [
  {
   "cell_type": "markdown",
   "metadata": {},
   "source": [
    "# ![](https://ga-dash.s3.amazonaws.com/production/assets/logo-9f88ae6c9c3871690e33280fcf557f33.png) Seinfeld Script Generator\n",
    "---\n",
    "### Problem Statement\n",
    "\n",
    "To build a script generator for popular sitcom, Seinfeld, based on the scripts of the 178 aired episodes. Each script generated should have at least 50 meaningful dialogue exchanges.\n",
    "\n",
    "### Methods & Models\n",
    "Word Embedding\n",
    "basic: RNN - LSTM model\n",
    "advanced: BART/GPT-2 model\n",
    "\n",
    "\n",
    "### Risks & Assumptions\n",
    "Risks: Long running time, hard to generate meaningful dialogue. \n",
    "Assumptions: \n",
    "\n",
    "\n",
    "### Initial Goals & Success Criteria\n",
    "Line goals: will decide based on model performance\n",
    "Readability: score each line and decide the percentage of meaningful dialogues.\n",
    "Sentiment Analysis: See if each character has a similar sentiment score compared to original scripts\n",
    "\n",
    "\n",
    "### Data Source\n",
    "https://www.imsdb.com/TV/Seinfeld.html\n",
    "Data Retrieving: build an automated scraper to perform web scrapping from the data source."
   ]
  },
  {
   "cell_type": "code",
   "execution_count": null,
   "metadata": {},
   "outputs": [],
   "source": []
  }
 ],
 "metadata": {
  "kernelspec": {
   "display_name": "Python 3",
   "language": "python",
   "name": "python3"
  },
  "language_info": {
   "codemirror_mode": {
    "name": "ipython",
    "version": 3
   },
   "file_extension": ".py",
   "mimetype": "text/x-python",
   "name": "python",
   "nbconvert_exporter": "python",
   "pygments_lexer": "ipython3",
   "version": "3.8.3"
  }
 },
 "nbformat": 4,
 "nbformat_minor": 4
}
