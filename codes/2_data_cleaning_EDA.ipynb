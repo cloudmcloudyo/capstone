{
 "cells": [
  {
   "cell_type": "markdown",
   "metadata": {},
   "source": [
    "# ![](https://ga-dash.s3.amazonaws.com/production/assets/logo-9f88ae6c9c3871690e33280fcf557f33.png) Capstone Project\n",
    "\n",
    "Notebook 2: Data Cleaning & EDA"
   ]
  },
  {
   "cell_type": "code",
   "execution_count": 1,
   "metadata": {},
   "outputs": [],
   "source": [
    "import pandas as pd\n",
    "import numpy as np\n",
    "import matplotlib.pyplot as plt\n",
    "import seaborn as sns\n",
    "\n",
    "import re\n",
    "from nltk.sentiment.vader import SentimentIntensityAnalyzer"
   ]
  },
  {
   "cell_type": "code",
   "execution_count": 2,
   "metadata": {},
   "outputs": [],
   "source": [
    "# set the display to maximum for easy review of the data\n",
    "\n",
    "pd.set_option('display.max_colwidth', 0)\n",
    "pd.set_option('display.max_rows', None)\n",
    "pd.set_option('display.max_columns', None)"
   ]
  },
  {
   "cell_type": "code",
   "execution_count": 3,
   "metadata": {},
   "outputs": [
    {
     "data": {
      "text/html": [
       "<div>\n",
       "<style scoped>\n",
       "    .dataframe tbody tr th:only-of-type {\n",
       "        vertical-align: middle;\n",
       "    }\n",
       "\n",
       "    .dataframe tbody tr th {\n",
       "        vertical-align: top;\n",
       "    }\n",
       "\n",
       "    .dataframe thead th {\n",
       "        text-align: right;\n",
       "    }\n",
       "</style>\n",
       "<table border=\"1\" class=\"dataframe\">\n",
       "  <thead>\n",
       "    <tr style=\"text-align: right;\">\n",
       "      <th></th>\n",
       "      <th>character</th>\n",
       "      <th>line</th>\n",
       "      <th>episode</th>\n",
       "    </tr>\n",
       "  </thead>\n",
       "  <tbody>\n",
       "    <tr>\n",
       "      <th>0</th>\n",
       "      <td>JERRY</td>\n",
       "      <td>You know, why we're here? To be out, this is out...and out is one of the single most enjoyable experiences of life. People...did you ever hear people talking about \"We should go out\"? This is what they're talking about...this whole thing, we're all out now, no one is home. Not one person here is home, we're all out! There are people tryin' to find us, they don't know where we are. (imitates one of these people \"tryin' to find us\"; pretends his hand is a phone) \"Did you ring?, I can't find him.\" (imitates other person on phone) \"Where did he go?\" (the first person again) \"He didn't tell me where he was going\". He must have gone out. You wanna go out: you get ready, you pick out the clothes, right? You take the shower, you get all ready, get the cash, get your friends, the car, the spot, the reservation...There you're staring around, whatta you do? You go: \"We gotta be getting back\". Once you're out, you wanna get back! You wanna go to sleep, you wanna get up, you wanna go out again tomorrow, right? Where ever you are in life, it's my feeling, you've gotta go. (Pete's luncheonette. Jerry and George are sitting at a table.)</td>\n",
       "      <td>GOOD NEWS, BAD NEWS</td>\n",
       "    </tr>\n",
       "    <tr>\n",
       "      <th>1</th>\n",
       "      <td>JERRY</td>\n",
       "      <td>Seems to me, that button is in the worst possible spot. (talking about George's shirt) The second button literally makes or breaks the shirt, look at it: it's too high! It's in no-man's-land, you look like you live with your mother.</td>\n",
       "      <td>GOOD NEWS, BAD NEWS</td>\n",
       "    </tr>\n",
       "    <tr>\n",
       "      <th>2</th>\n",
       "      <td>GEORGE</td>\n",
       "      <td>Are you through? (kind of irritated)</td>\n",
       "      <td>GOOD NEWS, BAD NEWS</td>\n",
       "    </tr>\n",
       "    <tr>\n",
       "      <th>3</th>\n",
       "      <td>JERRY</td>\n",
       "      <td>You do of course try on, when you buy?</td>\n",
       "      <td>GOOD NEWS, BAD NEWS</td>\n",
       "    </tr>\n",
       "    <tr>\n",
       "      <th>4</th>\n",
       "      <td>GEORGE</td>\n",
       "      <td>Yes, it was purple, I liked it, I don't actually recall considering the buttons.</td>\n",
       "      <td>GOOD NEWS, BAD NEWS</td>\n",
       "    </tr>\n",
       "  </tbody>\n",
       "</table>\n",
       "</div>"
      ],
      "text/plain": [
       "  character  \\\n",
       "0  JERRY      \n",
       "1  JERRY      \n",
       "2  GEORGE     \n",
       "3  JERRY      \n",
       "4  GEORGE     \n",
       "\n",
       "                                                                                                                                                                                                                                                                                                                                                                                                                                                                                                                                                                                                                                                                                                                                                                                                                                                                                                                                                                                                                                                                                                                                                                                 line  \\\n",
       "0  You know, why we're here? To be out, this is out...and out is one of the single most enjoyable experiences of life. People...did you ever hear people talking about \"We should go out\"? This is what they're talking about...this whole thing, we're all out now, no one is home. Not one person here is home, we're all out! There are people tryin' to find us, they don't know where we are. (imitates one of these people \"tryin' to find us\"; pretends his hand is a phone) \"Did you ring?, I can't find him.\" (imitates other person on phone) \"Where did he go?\" (the first person again) \"He didn't tell me where he was going\". He must have gone out. You wanna go out: you get ready, you pick out the clothes, right? You take the shower, you get all ready, get the cash, get your friends, the car, the spot, the reservation...There you're staring around, whatta you do? You go: \"We gotta be getting back\". Once you're out, you wanna get back! You wanna go to sleep, you wanna get up, you wanna go out again tomorrow, right? Where ever you are in life, it's my feeling, you've gotta go. (Pete's luncheonette. Jerry and George are sitting at a table.)   \n",
       "1  Seems to me, that button is in the worst possible spot. (talking about George's shirt) The second button literally makes or breaks the shirt, look at it: it's too high! It's in no-man's-land, you look like you live with your mother.                                                                                                                                                                                                                                                                                                                                                                                                                                                                                                                                                                                                                                                                                                                                                                                                                                                                                                                                             \n",
       "2  Are you through? (kind of irritated)                                                                                                                                                                                                                                                                                                                                                                                                                                                                                                                                                                                                                                                                                                                                                                                                                                                                                                                                                                                                                                                                                                                                                 \n",
       "3  You do of course try on, when you buy?                                                                                                                                                                                                                                                                                                                                                                                                                                                                                                                                                                                                                                                                                                                                                                                                                                                                                                                                                                                                                                                                                                                                               \n",
       "4  Yes, it was purple, I liked it, I don't actually recall considering the buttons.                                                                                                                                                                                                                                                                                                                                                                                                                                                                                                                                                                                                                                                                                                                                                                                                                                                                                                                                                                                                                                                                                                     \n",
       "\n",
       "               episode  \n",
       "0  GOOD NEWS, BAD NEWS  \n",
       "1  GOOD NEWS, BAD NEWS  \n",
       "2  GOOD NEWS, BAD NEWS  \n",
       "3  GOOD NEWS, BAD NEWS  \n",
       "4  GOOD NEWS, BAD NEWS  "
      ]
     },
     "execution_count": 3,
     "metadata": {},
     "output_type": "execute_result"
    }
   ],
   "source": [
    "scripts = pd.read_csv('../data/seinfeld_scripts_no_title.csv')\n",
    "scripts.head()"
   ]
  },
  {
   "cell_type": "code",
   "execution_count": 4,
   "metadata": {},
   "outputs": [
    {
     "data": {
      "text/plain": [
       "(54211, 3)"
      ]
     },
     "execution_count": 4,
     "metadata": {},
     "output_type": "execute_result"
    }
   ],
   "source": [
    "scripts.shape"
   ]
  },
  {
   "cell_type": "markdown",
   "metadata": {},
   "source": [
    "Our data has 54,211 rows with 3 features."
   ]
  },
  {
   "cell_type": "markdown",
   "metadata": {},
   "source": [
    "### Data Cleaning"
   ]
  },
  {
   "cell_type": "markdown",
   "metadata": {},
   "source": [
    "Thanks to the scraper built in the previous notebook, the scripts data is fairly clean. Each datapoint consists of three features: the character who was speaking, the corresponding line and the episode name. Upon inital examining, there were no null values or mismatched data types. "
   ]
  },
  {
   "cell_type": "code",
   "execution_count": 5,
   "metadata": {},
   "outputs": [
    {
     "data": {
      "text/plain": [
       "character    0\n",
       "line         0\n",
       "episode      0\n",
       "dtype: int64"
      ]
     },
     "execution_count": 5,
     "metadata": {},
     "output_type": "execute_result"
    }
   ],
   "source": [
    "# check null value just in case\n",
    "\n",
    "scripts.isnull().sum()"
   ]
  },
  {
   "cell_type": "code",
   "execution_count": 6,
   "metadata": {},
   "outputs": [
    {
     "data": {
      "text/plain": [
       "character    object\n",
       "line         object\n",
       "episode      object\n",
       "dtype: object"
      ]
     },
     "execution_count": 6,
     "metadata": {},
     "output_type": "execute_result"
    }
   ],
   "source": [
    "# check data types\n",
    "\n",
    "scripts.dtypes"
   ]
  },
  {
   "cell_type": "markdown",
   "metadata": {},
   "source": [
    "However, as I further investigated the data, some issues with the data surfaced: 1. there were typos of names in the character columns (i.e: Kramer spelled as \"KRAMERT\"); 2. inconsistancies in names for each character(i.e: \"E\", \"ElAINE\" both refer to as Elaine); 3. some cells in character columns were locations, or actions, not the characters (i.e: \"JERRY MOCKING\", \"INT. MEETING ROOM - DAY\"); 4. some lines were spoken by more than one character; 5. there are special characters that are non character names (i.e: \"-----\" or \"======\").\n",
    "\n",
    "In order to reduce the complication of the model, following strategies were used to fix the above issues and clean the data:\n",
    "1. remove datapoints that have less than  occurance because these data are not likely to provide any valuable inference for the model"
   ]
  },
  {
   "cell_type": "code",
   "execution_count": 7,
   "metadata": {},
   "outputs": [],
   "source": [
    "occurrence = scripts.value_counts('character', ascending = True)\n",
    "drop_rows = list(occurrence[occurrence<=10].index)\n",
    "\n",
    "drop_index=[]\n",
    "for row in drop_rows:\n",
    "    ids = list(scripts[scripts['character'] == row].index)\n",
    "    for i in ids:\n",
    "        drop_index.append(i)\n",
    "        \n",
    "scripts.drop(drop_index, inplace=True)\n",
    "\n",
    "scripts.reset_index(drop=True, inplace=True)"
   ]
  },
  {
   "cell_type": "markdown",
   "metadata": {},
   "source": [
    "2. correct typos, redundant character names "
   ]
  },
  {
   "cell_type": "code",
   "execution_count": 8,
   "metadata": {},
   "outputs": [],
   "source": [
    "scripts['character'] = ['KRAMER' if i == 'KRAMER,' else i for i in scripts['character']]"
   ]
  },
  {
   "cell_type": "code",
   "execution_count": 9,
   "metadata": {},
   "outputs": [],
   "source": [
    "scripts['character'] = ['JERRY' if i == 'JERRY,' else i for i in scripts['character']]"
   ]
  },
  {
   "cell_type": "code",
   "execution_count": 10,
   "metadata": {},
   "outputs": [],
   "source": [
    "scripts['character'] = ['UNCLE LEO' if i == 'LEO' else i for i in scripts['character']]"
   ]
  },
  {
   "cell_type": "code",
   "execution_count": 11,
   "metadata": {},
   "outputs": [],
   "source": [
    "scripts['character'] = ['JOE DAVOLA' if i == 'JOE DIVOLA' else i for i in scripts['character']]"
   ]
  },
  {
   "cell_type": "code",
   "execution_count": 12,
   "metadata": {},
   "outputs": [],
   "source": [
    "scripts['character'] = ['WOMAN' if i == 'WOMEN' else i for i in scripts['character']]"
   ]
  },
  {
   "cell_type": "markdown",
   "metadata": {},
   "source": [
    "3. correct misplaced lines due to the wrong formatting of the data source"
   ]
  },
  {
   "cell_type": "code",
   "execution_count": 13,
   "metadata": {},
   "outputs": [],
   "source": [
    "for i in list(scripts[scripts.character == 'I'].index):\n",
    "    scripts.iloc[i-1, 1] = scripts.iloc[i-1, 1] + ' ' + scripts.iloc[i, 0] + ' ' + scripts.iloc[i, 1]\n",
    "    scripts.drop(i, inplace=True)"
   ]
  },
  {
   "cell_type": "markdown",
   "metadata": {},
   "source": [
    "4. drop rows where dedicated to two speakers"
   ]
  },
  {
   "cell_type": "code",
   "execution_count": 14,
   "metadata": {},
   "outputs": [],
   "source": [
    "scripts.drop(list(scripts[scripts['character'] == 'JERRY AND ELAINE'].index), inplace=True)"
   ]
  },
  {
   "cell_type": "markdown",
   "metadata": {},
   "source": [
    "Moreover, there are 180 aired episodes for <em>Seinfeld</em>, however only 174 unique episodes were collected. This is because: 1. the data didn't include the four clip/highlight episodes - S6E14-E15 \"The Highlights of 100\", S9E21-E22 \"The Clip Show\"; 2. the website mislinked two of the regular episodes - S6E1 \"The Chaperone\" to \"The Opposite\", S6E7 \"The Soup\" to \"The Soup Nazi\", which results in the latter two episodes to have duplicate input in the data. I therefore decide to drop those duplicate rows."
   ]
  },
  {
   "cell_type": "code",
   "execution_count": 15,
   "metadata": {},
   "outputs": [
    {
     "data": {
      "text/plain": [
       "174"
      ]
     },
     "execution_count": 15,
     "metadata": {},
     "output_type": "execute_result"
    }
   ],
   "source": [
    "len(scripts.episode.unique())"
   ]
  },
  {
   "cell_type": "code",
   "execution_count": 19,
   "metadata": {},
   "outputs": [],
   "source": [
    "# drop dupliacte \"the opposite\" script\n",
    "\n",
    "scripts[(scripts.episode == 'THE OPPOSITE')].loc[24104:24369]\n",
    "scripts.drop(list(range(24104,24370)), inplace=True)\n",
    "scripts.reset_index(drop=True, inplace=True)"
   ]
  },
  {
   "cell_type": "code",
   "execution_count": 24,
   "metadata": {},
   "outputs": [],
   "source": [
    "# drop dupliacte \"the soup nazi\" script\n",
    "\n",
    "scripts[scripts.episode == 'THE SOUP NAZI'].loc[25811:26197]\n",
    "scripts.drop(list(range(25811,26198)), inplace=True)\n",
    "scripts.reset_index(drop=True, inplace=True)"
   ]
  },
  {
   "cell_type": "markdown",
   "metadata": {},
   "source": [
    "Our cleaned data now has 50,639 rows and 3 features."
   ]
  },
  {
   "cell_type": "code",
   "execution_count": 25,
   "metadata": {},
   "outputs": [
    {
     "data": {
      "text/plain": [
       "(50639, 3)"
      ]
     },
     "execution_count": 25,
     "metadata": {},
     "output_type": "execute_result"
    }
   ],
   "source": [
    "scripts.shape"
   ]
  },
  {
   "cell_type": "markdown",
   "metadata": {},
   "source": [
    "### Feature Engineering"
   ]
  },
  {
   "cell_type": "code",
   "execution_count": 26,
   "metadata": {},
   "outputs": [],
   "source": [
    "# create word counts for each line \n",
    "\n",
    "def word_count(line):\n",
    "    \n",
    "    splited = line.split()\n",
    "    final = []\n",
    "    for chunk in splited:\n",
    "        if '...' in chunk:\n",
    "            chunk = chunk.split('...')\n",
    "            for i in chunk:\n",
    "                final.append(i)\n",
    "        else:\n",
    "            final.append(chunk)\n",
    "\n",
    "    return len(final)\n"
   ]
  },
  {
   "cell_type": "code",
   "execution_count": 27,
   "metadata": {},
   "outputs": [],
   "source": [
    "scripts['word_count'] = scripts['line'].map(word_count)"
   ]
  },
  {
   "cell_type": "code",
   "execution_count": 28,
   "metadata": {},
   "outputs": [],
   "source": [
    "# concatenate the columns \n",
    "\n",
    "scripts['char_line'] = (scripts['character'] + ': ' + scripts['line'])"
   ]
  },
  {
   "cell_type": "code",
   "execution_count": 29,
   "metadata": {},
   "outputs": [],
   "source": [
    "# convert to lowercase\n",
    "\n",
    "scripts['char_line'] = scripts['char_line'].map(lambda x: x.lower())"
   ]
  },
  {
   "cell_type": "markdown",
   "metadata": {},
   "source": [
    "### Exploratory Data Analysis"
   ]
  },
  {
   "cell_type": "code",
   "execution_count": 30,
   "metadata": {},
   "outputs": [
    {
     "data": {
      "image/png": "[encoded data removed]",
      "text/plain": [
       "<Figure size 432x288 with 1 Axes>"
      ]
     },
     "metadata": {
      "needs_background": "light"
     },
     "output_type": "display_data"
    }
   ],
   "source": [
    "scripts.groupby('character')['line'].count().sort_values(ascending = False)[:10].plot.barh();"
   ]
  },
  {
   "cell_type": "code",
   "execution_count": 31,
   "metadata": {},
   "outputs": [
    {
     "data": {
      "image/png": "[encoded data removed]",
      "text/plain": [
       "<Figure size 432x288 with 1 Axes>"
      ]
     },
     "metadata": {
      "needs_background": "light"
     },
     "output_type": "display_data"
    }
   ],
   "source": [
    "scripts.groupby('character')['word_count'].sum().sort_values(ascending = False)[:10].plot.barh();"
   ]
  },
  {
   "cell_type": "code",
   "execution_count": 32,
   "metadata": {},
   "outputs": [],
   "source": [
    "def sentiment(text):\n",
    "    sentiment = SentimentIntensityAnalyzer()\n",
    "    score = sentiment.polarity_scores(text)\n",
    "    return score['compound']"
   ]
  },
  {
   "cell_type": "code",
   "execution_count": 33,
   "metadata": {},
   "outputs": [],
   "source": [
    "scripts['sentiment_score'] = scripts['line'].map(sentiment)"
   ]
  },
  {
   "cell_type": "code",
   "execution_count": 34,
   "metadata": {},
   "outputs": [],
   "source": [
    "scripts.to_csv('../data/cleaned.csv', index=False)"
   ]
  },
  {
   "cell_type": "code",
   "execution_count": 35,
   "metadata": {},
   "outputs": [],
   "source": [
    "def convert_sen(num):\n",
    "    if num > 0:\n",
    "        return 'positive'\n",
    "    elif num == 0:\n",
    "        return 'neutral'\n",
    "    else:\n",
    "        return 'negative'"
   ]
  },
  {
   "cell_type": "code",
   "execution_count": 36,
   "metadata": {},
   "outputs": [],
   "source": [
    "scripts['sentiment'] = scripts['sentiment_score'].map(convert_sen)"
   ]
  },
  {
   "cell_type": "code",
   "execution_count": 37,
   "metadata": {},
   "outputs": [],
   "source": [
    "char = ['JERRY', 'GEORGE', 'ELAINE', 'KRAMER', 'FRANK', 'MORTY', 'HELEN', 'SUSAN', 'ESTELLE', 'NEWMAN']\n",
    "\n",
    "for name in char:\n",
    "    scripts[scripts.character == name].groupby(['character', 'sentiment'])['sentiment_score'].count()"
   ]
  },
  {
   "cell_type": "code",
   "execution_count": 38,
   "metadata": {},
   "outputs": [
    {
     "data": {
      "text/plain": [
       "character  sentiment\n",
       "GEORGE     negative     1797\n",
       "           neutral      4513\n",
       "           positive     3324\n",
       "Name: sentiment_score, dtype: int64"
      ]
     },
     "execution_count": 38,
     "metadata": {},
     "output_type": "execute_result"
    }
   ],
   "source": [
    "scripts[scripts.character == 'GEORGE'].groupby(['character', 'sentiment'])['sentiment_score'].count()"
   ]
  },
  {
   "cell_type": "code",
   "execution_count": 39,
   "metadata": {},
   "outputs": [
    {
     "data": {
      "image/png": "[encoded data removed]",
      "text/plain": [
       "<Figure size 864x576 with 1 Axes>"
      ]
     },
     "metadata": {
      "needs_background": "light"
     },
     "output_type": "display_data"
    }
   ],
   "source": [
    "plt.figure(figsize = (12, 8))\n",
    "plt.plot(scripts[scripts.character == 'JERRY']['sentiment_score'].describe()[1:], label='Jerry')\n",
    "plt.plot(scripts[scripts.character == 'GEORGE']['sentiment_score'].describe()[1:], label='George')\n",
    "plt.plot(scripts[scripts.character == 'ELAINE']['sentiment_score'].describe()[1:], label='Elaine')\n",
    "plt.plot(scripts[scripts.character == 'KRAMER']['sentiment_score'].describe()[1:], label='Kramer')\n",
    "plt.legend();"
   ]
  },
  {
   "cell_type": "markdown",
   "metadata": {},
   "source": [
    "### How similar they are"
   ]
  },
  {
   "cell_type": "code",
   "execution_count": null,
   "metadata": {},
   "outputs": [],
   "source": []
  },
  {
   "cell_type": "markdown",
   "metadata": {},
   "source": [
    "### Most frequent used words by characters -- WordCloud"
   ]
  },
  {
   "cell_type": "code",
   "execution_count": null,
   "metadata": {},
   "outputs": [],
   "source": []
  },
  {
   "cell_type": "markdown",
   "metadata": {},
   "source": [
    "### Finalizing Data"
   ]
  },
  {
   "cell_type": "code",
   "execution_count": 40,
   "metadata": {},
   "outputs": [
    {
     "data": {
      "text/html": [
       "<div>\n",
       "<style scoped>\n",
       "    .dataframe tbody tr th:only-of-type {\n",
       "        vertical-align: middle;\n",
       "    }\n",
       "\n",
       "    .dataframe tbody tr th {\n",
       "        vertical-align: top;\n",
       "    }\n",
       "\n",
       "    .dataframe thead th {\n",
       "        text-align: right;\n",
       "    }\n",
       "</style>\n",
       "<table border=\"1\" class=\"dataframe\">\n",
       "  <thead>\n",
       "    <tr style=\"text-align: right;\">\n",
       "      <th></th>\n",
       "      <th>char_line</th>\n",
       "    </tr>\n",
       "  </thead>\n",
       "  <tbody>\n",
       "    <tr>\n",
       "      <th>0</th>\n",
       "      <td>jerry: you know, why we're here? to be out, this is out...and out is one of the single most enjoyable experiences of life. people...did you ever hear people talking about \"we should go out\"? this is what they're talking about...this whole thing, we're all out now, no one is home. not one person here is home, we're all out! there are people tryin' to find us, they don't know where we are. (imitates one of these people \"tryin' to find us\"; pretends his hand is a phone) \"did you ring?, i can't find him.\" (imitates other person on phone) \"where did he go?\" (the first person again) \"he didn't tell me where he was going\". he must have gone out. you wanna go out: you get ready, you pick out the clothes, right? you take the shower, you get all ready, get the cash, get your friends, the car, the spot, the reservation...there you're staring around, whatta you do? you go: \"we gotta be getting back\". once you're out, you wanna get back! you wanna go to sleep, you wanna get up, you wanna go out again tomorrow, right? where ever you are in life, it's my feeling, you've gotta go. (pete's luncheonette. jerry and george are sitting at a table.)</td>\n",
       "    </tr>\n",
       "    <tr>\n",
       "      <th>1</th>\n",
       "      <td>jerry: seems to me, that button is in the worst possible spot. (talking about george's shirt) the second button literally makes or breaks the shirt, look at it: it's too high! it's in no-man's-land, you look like you live with your mother.</td>\n",
       "    </tr>\n",
       "    <tr>\n",
       "      <th>2</th>\n",
       "      <td>george: are you through? (kind of irritated)</td>\n",
       "    </tr>\n",
       "    <tr>\n",
       "      <th>3</th>\n",
       "      <td>jerry: you do of course try on, when you buy?</td>\n",
       "    </tr>\n",
       "    <tr>\n",
       "      <th>4</th>\n",
       "      <td>george: yes, it was purple, i liked it, i don't actually recall considering the buttons.</td>\n",
       "    </tr>\n",
       "  </tbody>\n",
       "</table>\n",
       "</div>"
      ],
      "text/plain": [
       "                                                                                                                                                                                                                                                                                                                                                                                                                                                                                                                                                                                                                                                                                                                                                                                                                                                                                                                                                                                                                                                                                                                                                                                   char_line\n",
       "0  jerry: you know, why we're here? to be out, this is out...and out is one of the single most enjoyable experiences of life. people...did you ever hear people talking about \"we should go out\"? this is what they're talking about...this whole thing, we're all out now, no one is home. not one person here is home, we're all out! there are people tryin' to find us, they don't know where we are. (imitates one of these people \"tryin' to find us\"; pretends his hand is a phone) \"did you ring?, i can't find him.\" (imitates other person on phone) \"where did he go?\" (the first person again) \"he didn't tell me where he was going\". he must have gone out. you wanna go out: you get ready, you pick out the clothes, right? you take the shower, you get all ready, get the cash, get your friends, the car, the spot, the reservation...there you're staring around, whatta you do? you go: \"we gotta be getting back\". once you're out, you wanna get back! you wanna go to sleep, you wanna get up, you wanna go out again tomorrow, right? where ever you are in life, it's my feeling, you've gotta go. (pete's luncheonette. jerry and george are sitting at a table.)\n",
       "1  jerry: seems to me, that button is in the worst possible spot. (talking about george's shirt) the second button literally makes or breaks the shirt, look at it: it's too high! it's in no-man's-land, you look like you live with your mother.                                                                                                                                                                                                                                                                                                                                                                                                                                                                                                                                                                                                                                                                                                                                                                                                                                                                                                                                          \n",
       "2  george: are you through? (kind of irritated)                                                                                                                                                                                                                                                                                                                                                                                                                                                                                                                                                                                                                                                                                                                                                                                                                                                                                                                                                                                                                                                                                                                                             \n",
       "3  jerry: you do of course try on, when you buy?                                                                                                                                                                                                                                                                                                                                                                                                                                                                                                                                                                                                                                                                                                                                                                                                                                                                                                                                                                                                                                                                                                                                            \n",
       "4  george: yes, it was purple, i liked it, i don't actually recall considering the buttons.                                                                                                                                                                                                                                                                                                                                                                                                                                                                                                                                                                                                                                                                                                                                                                                                                                                                                                                                                                                                                                                                                                 "
      ]
     },
     "execution_count": 40,
     "metadata": {},
     "output_type": "execute_result"
    }
   ],
   "source": [
    "df = pd.DataFrame(data=scripts['char_line'])\n",
    "df.head()"
   ]
  },
  {
   "cell_type": "code",
   "execution_count": 41,
   "metadata": {},
   "outputs": [],
   "source": [
    "texts='\\n'.join(df['char_line'])"
   ]
  },
  {
   "cell_type": "code",
   "execution_count": 42,
   "metadata": {},
   "outputs": [],
   "source": [
    "with open('../data/for_train.txt', 'w') as f:\n",
    "    f.write(texts)"
   ]
  }
 ],
 "metadata": {
  "environment": {
   "name": "tf2-2-3-gpu.2-3.m59",
   "type": "gcloud",
   "uri": "gcr.io/deeplearning-platform-release/tf2-2-3-gpu.2-3:m59"
  },
  "kernelspec": {
   "display_name": "Python 3",
   "language": "python",
   "name": "python3"
  },
  "language_info": {
   "codemirror_mode": {
    "name": "ipython",
    "version": 3
   },
   "file_extension": ".py",
   "mimetype": "text/x-python",
   "name": "python",
   "nbconvert_exporter": "python",
   "pygments_lexer": "ipython3",
   "version": "3.7.8"
  }
 },
 "nbformat": 4,
 "nbformat_minor": 4
}
