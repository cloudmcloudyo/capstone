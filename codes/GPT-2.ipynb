{
 "cells": [
  {
   "cell_type": "markdown",
   "metadata": {
    "id": "H7LoMj4GA4n_"
   },
   "source": [
    "#  Train a GPT-2 Text-Generating Model w/ GPU For Free \n",
    "\n",
    "credit: [Max Woolf](http://minimaxir.com)\n",
    "\n",
    "\n",
    "Retrain an advanced text generating neural network on any text dataset **for free on a GPU using Collaboratory** using `gpt-2-simple`!"
   ]
  },
  {
   "cell_type": "code",
   "execution_count": 1,
   "metadata": {
    "colab": {
     "base_uri": "https://localhost:8080/"
    },
    "id": "KBkpRgBCBS2_",
    "outputId": "cedb48db-63a6-41b8-d04f-2ab12ab18e7c"
   },
   "outputs": [
    {
     "name": "stdout",
     "output_type": "stream",
     "text": [
      "TensorFlow 1.x selected.\n",
      "WARNING:tensorflow:\n",
      "The TensorFlow contrib module will not be included in TensorFlow 2.0.\n",
      "For more information, please see:\n",
      "  * https://github.com/tensorflow/community/blob/master/rfcs/20180907-contrib-sunset.md\n",
      "  * https://github.com/tensorflow/addons\n",
      "  * https://github.com/tensorflow/io (for I/O related ops)\n",
      "If you depend on functionality not listed there, please file an issue.\n",
      "\n"
     ]
    }
   ],
   "source": [
    "%tensorflow_version 1.x\n",
    "!pip install -q gpt-2-simple\n",
    "import gpt_2_simple as gpt2\n",
    "from datetime import datetime\n",
    "from google.colab import files"
   ]
  },
  {
   "cell_type": "markdown",
   "metadata": {
    "id": "Bj2IJLHP3KwE"
   },
   "source": [
    "## GPU\n",
    "\n",
    "Colaboratory uses either a Nvidia T4 GPU or an Nvidia K80 GPU. The T4 is slightly faster than the old K80 for training GPT-2, and has more memory allowing you to train the larger GPT-2 models and generate more text.\n",
    "\n",
    "You can verify which GPU is active by running the cell below."
   ]
  },
  {
   "cell_type": "code",
   "execution_count": 2,
   "metadata": {
    "colab": {
     "base_uri": "https://localhost:8080/"
    },
    "id": "sUmTooTW3osf",
    "outputId": "de1dbd21-a7ab-4edc-f8d8-58e5386ed8a3"
   },
   "outputs": [
    {
     "name": "stdout",
     "output_type": "stream",
     "text": [
      "Wed Nov 25 07:37:53 2020       \n",
      "+-----------------------------------------------------------------------------+\n",
      "| NVIDIA-SMI 455.38       Driver Version: 418.67       CUDA Version: 10.1     |\n",
      "|-------------------------------+----------------------+----------------------+\n",
      "| GPU  Name        Persistence-M| Bus-Id        Disp.A | Volatile Uncorr. ECC |\n",
      "| Fan  Temp  Perf  Pwr:Usage/Cap|         Memory-Usage | GPU-Util  Compute M. |\n",
      "|                               |                      |               MIG M. |\n",
      "|===============================+======================+======================|\n",
      "|   0  Tesla T4            Off  | 00000000:00:04.0 Off |                    0 |\n",
      "| N/A   69C    P8    12W /  70W |      0MiB / 15079MiB |      0%      Default |\n",
      "|                               |                      |                 ERR! |\n",
      "+-------------------------------+----------------------+----------------------+\n",
      "                                                                               \n",
      "+-----------------------------------------------------------------------------+\n",
      "| Processes:                                                                  |\n",
      "|  GPU   GI   CI        PID   Type   Process name                  GPU Memory |\n",
      "|        ID   ID                                                   Usage      |\n",
      "|=============================================================================|\n",
      "|  No running processes found                                                 |\n",
      "+-----------------------------------------------------------------------------+\n"
     ]
    }
   ],
   "source": [
    "!nvidia-smi"
   ]
  },
  {
   "cell_type": "markdown",
   "metadata": {
    "id": "0wXB05bPDYxS"
   },
   "source": [
    "## Downloading GPT-2"
   ]
  },
  {
   "cell_type": "code",
   "execution_count": 3,
   "metadata": {
    "colab": {
     "base_uri": "https://localhost:8080/"
    },
    "id": "P8wSlgXoDPCR",
    "outputId": "d4a60855-ec1e-42c2-9ba9-693c6c4ea2b6"
   },
   "outputs": [
    {
     "name": "stderr",
     "output_type": "stream",
     "text": [
      "Fetching checkpoint: 1.05Mit [00:00, 311Mit/s]                                                      \n",
      "Fetching encoder.json: 1.05Mit [00:00, 118Mit/s]                                                    \n",
      "Fetching hparams.json: 1.05Mit [00:00, 329Mit/s]                                                    \n",
      "Fetching model.ckpt.data-00000-of-00001: 498Mit [00:04, 119Mit/s]                                   \n",
      "Fetching model.ckpt.index: 1.05Mit [00:00, 302Mit/s]                                                \n",
      "Fetching model.ckpt.meta: 1.05Mit [00:00, 151Mit/s]                                                 \n",
      "Fetching vocab.bpe: 1.05Mit [00:00, 187Mit/s]                                                       \n"
     ]
    }
   ],
   "source": [
    "gpt2.download_gpt2(model_name=\"124M\")"
   ]
  },
  {
   "cell_type": "markdown",
   "metadata": {
    "id": "N8KXuKWzQSsN"
   },
   "source": [
    "## Mounting Google Drive"
   ]
  },
  {
   "cell_type": "code",
   "execution_count": 4,
   "metadata": {
    "colab": {
     "base_uri": "https://localhost:8080/"
    },
    "id": "puq4iC6vUAHc",
    "outputId": "5fcb9d73-9cb1-4111-e13b-a9d286027a79"
   },
   "outputs": [
    {
     "name": "stdout",
     "output_type": "stream",
     "text": [
      "Mounted at /content/drive\n"
     ]
    }
   ],
   "source": [
    "gpt2.mount_gdrive()"
   ]
  },
  {
   "cell_type": "code",
   "execution_count": 5,
   "metadata": {
    "id": "6OFnPCLADfll"
   },
   "outputs": [],
   "source": [
    "file_name = \"for_train.txt\""
   ]
  },
  {
   "cell_type": "markdown",
   "metadata": {
    "id": "HeeSKtNWUedE"
   },
   "source": [
    "If your text file is larger than 10MB, it is recommended to upload that file to Google Drive first, then copy that file from Google Drive to the Colaboratory VM."
   ]
  },
  {
   "cell_type": "code",
   "execution_count": 6,
   "metadata": {
    "id": "-Z6okFD8VKtS"
   },
   "outputs": [],
   "source": [
    "gpt2.copy_file_from_gdrive(file_name)"
   ]
  },
  {
   "cell_type": "markdown",
   "metadata": {
    "id": "LdpZQXknFNY3"
   },
   "source": [
    "## Finetune GPT-2\n",
    "\n",
    "The next cell will start the actual finetuning of GPT-2. It creates a persistent TensorFlow session which stores the training config, then runs the training for the specified number of `steps`. (to have the finetuning run indefinitely, set `steps = -1`)\n",
    "\n",
    "The model checkpoints will be saved in `/checkpoint/run1` by default. The checkpoints are saved every 500 steps (can be changed) and when the cell is stopped."
   ]
  },
  {
   "cell_type": "code",
   "execution_count": 7,
   "metadata": {
    "colab": {
     "base_uri": "https://localhost:8080/"
    },
    "id": "aeXshJM-Cuaf",
    "outputId": "9ae44e8c-ee83-4e1a-9b20-8bcae721b322"
   },
   "outputs": [
    {
     "name": "stdout",
     "output_type": "stream",
     "text": [
      "WARNING:tensorflow:From /usr/local/lib/python3.6/dist-packages/gpt_2_simple/src/sample.py:17: where (from tensorflow.python.ops.array_ops) is deprecated and will be removed in a future version.\n",
      "Instructions for updating:\n",
      "Use tf.where in 2.0, which has the same broadcast rule as np.where\n",
      "Loading checkpoint models/124M/model.ckpt\n",
      "INFO:tensorflow:Restoring parameters from models/124M/model.ckpt\n"
     ]
    },
    {
     "name": "stderr",
     "output_type": "stream",
     "text": [
      "  0%|          | 0/1 [00:00<?, ?it/s]"
     ]
    },
    {
     "name": "stdout",
     "output_type": "stream",
     "text": [
      "Loading dataset...\n"
     ]
    },
    {
     "name": "stderr",
     "output_type": "stream",
     "text": [
      "100%|██████████| 1/1 [00:05<00:00,  5.24s/it]\n"
     ]
    },
    {
     "name": "stdout",
     "output_type": "stream",
     "text": [
      "dataset has 1090522 tokens\n",
      "Training...\n",
      "Saving checkpoint/run2/model-0\n",
      "[10 | 28.88] loss=2.70 avg=2.70\n",
      "[20 | 53.18] loss=2.78 avg=2.74\n",
      "[30 | 76.55] loss=2.58 avg=2.69\n",
      "[40 | 99.89] loss=2.39 avg=2.61\n",
      "[50 | 123.53] loss=2.50 avg=2.59\n",
      "[60 | 147.13] loss=2.58 avg=2.59\n",
      "[70 | 170.60] loss=2.51 avg=2.58\n",
      "[80 | 194.08] loss=2.62 avg=2.58\n",
      "[90 | 217.60] loss=2.46 avg=2.57\n",
      "[100 | 241.20] loss=2.46 avg=2.56\n",
      "[110 | 264.75] loss=2.39 avg=2.54\n",
      "[120 | 288.26] loss=2.45 avg=2.53\n",
      "[130 | 311.75] loss=2.63 avg=2.54\n",
      "[140 | 335.22] loss=2.51 avg=2.54\n",
      "[150 | 358.70] loss=2.53 avg=2.54\n",
      "[160 | 382.23] loss=2.25 avg=2.52\n",
      "[170 | 405.81] loss=2.55 avg=2.52\n",
      "[180 | 429.36] loss=2.36 avg=2.51\n",
      "[190 | 452.88] loss=2.24 avg=2.50\n",
      "[200 | 476.37] loss=2.47 avg=2.49\n",
      "======== SAMPLE 1 ========\n",
      " talented on a bike. He's a perfectionist. Always trying out new things.\n",
      "KEITH: No problem.\n",
      "JERRY: You don' think he's gonna drive, or something?\n",
      "JERRY: No, I don't. (Jerry's apartment) (Jerry is sitting on the couch)\n",
      "JERRY: You know this is very flattering to hear.\n",
      "GEORGE: Yeah, well it's a nice, nice apartment. I think I like the place.\n",
      "JERRY: I know, look at it. It's a pretty beautiful place.\n",
      "GEORGE: What?\n",
      "JERRY: Pretty beautiful. I've never been to a place where anything even remotely attractive was available for rent - at least at the market now.\n",
      "GEORGE: You know, they just moved to a nicer place.\n",
      "JERRY: Yeah, and they still have your bicycle. But now, you know, I'm going to get this bicycle when I get back, and now it's in my closet. I never want it back.\n",
      "GEORGE: Why?\n",
      "JERRY: I can't take you back for anything.\n",
      "GEORGE: I can't take this bike back.\n",
      "JERRY: Because, you know, I don't really want it back, you know.\n",
      "GEORGE: That's my thing.\n",
      "JERRY: But you got to keep the bike in it.\n",
      "GEORGE: Well I've got to keep it in it. (George stops and looks at the bike) Oh.\n",
      "GEORGE: I don't want it back.\n",
      "JERRY: Why don't you shut up and get rid of this bike?\n",
      "GEORGE: Because a great bike doesn't have all the joys of a bike like this. In fact, it just looks awful on a bike.\n",
      "JERRY: That's the thing - that's what I said. (Jerry's apartment) (Jerry sits on the couch)\n",
      "JERRY: You know, you've done this a million times. You think about this bike. You know I've got some big plans to take down! (Jerry and Elaine are watching George on TV and laughing)\n",
      "GEORGE: I love this bike. (George is laughing)\n",
      "JERRY: You know Jerry, it looks pretty.\n",
      "GEORGE: Jerry, look, I'm taking this bike. Now get this, what I'm doing is I'm wearing this. I'm wearing your bicycle, and now I'm getting this bike out of the closet.\n",
      "JERRY: You wanna get it?\n",
      "GEORGE: (examining the bike) Yeah, so this thing looks a lot like my old bike.\n",
      "JERRY: So you're wearing it?\n",
      "GEORGE: No. It's just that there's something more on the inside.\n",
      "JERRY: You know what? What do you find so great about vintage?\n",
      "GEORGE: Yes. I mean it's like they're making something new, they have this new look. They have this beautiful look. Then they make this new look of what they're holding, and you have a new look of what they look like you never knew.\n",
      "JERRY: I think you're missing the point.\n",
      "GEORGE: I think you missed the point. You can't just change things for the purpose of buying another bicycle.\n",
      "JERRY: Oh, I'm not buying a bike. I'm buying a bicycle. (pause) Well, Jerry, you got something that you really like.\n",
      "GEORGE: Ahh, yeah, I do. (pause) What?\n",
      "JERRY: I'm gonna put this bike in your closet. (pause) Yes, it's in your closet.\n",
      "GEORGE: No, it's on my shelf.\n",
      "JERRY: Oh, you don't even want a bike?\n",
      "GEORGE: I'm not making this happen. Jerry and Elaine sit on that couch)\n",
      "ELAINE: I'm gonna have a bike right now, and it's gonna be an old fashioned bike, like a fork in the back.\n",
      "JERRY: Yeah, I'm gonna put it somewhere else. And how you gonna get it?\n",
      "ELAINE: I don't know. You got a bike?\n",
      "JERRY: No, I'm gonna get a bike for you. (pause) What is it like?\n",
      "ELAINE: (pause) It's just, I just have a feeling, my father is gonna be back tomorrow for a long, long time.\n",
      "JERRY: What could he not like it? (pause) Well, what is the point?\n",
      "ELAINE: He can walk around with it in his arm.\n",
      "JERRY: Yeah.\n",
      "ELAINE: So, what, when he gets back, he's gonna have to borrow it?\n",
      "JERRY: Yeah\n",
      "\n",
      "[210 | 511.35] loss=2.50 avg=2.49\n",
      "[220 | 535.03] loss=2.55 avg=2.50\n",
      "[230 | 558.67] loss=2.43 avg=2.49\n",
      "[240 | 582.24] loss=2.49 avg=2.49\n",
      "[250 | 605.76] loss=2.43 avg=2.49\n",
      "[260 | 629.29] loss=2.28 avg=2.48\n",
      "[270 | 652.82] loss=2.24 avg=2.47\n",
      "[280 | 676.40] loss=2.34 avg=2.47\n",
      "[290 | 699.96] loss=2.23 avg=2.46\n",
      "[300 | 723.54] loss=2.24 avg=2.45\n",
      "[310 | 747.12] loss=2.35 avg=2.45\n",
      "[320 | 770.71] loss=2.28 avg=2.44\n",
      "[330 | 794.29] loss=2.38 avg=2.44\n",
      "[340 | 817.87] loss=2.27 avg=2.43\n",
      "[350 | 841.49] loss=2.21 avg=2.42\n",
      "[360 | 865.09] loss=2.34 avg=2.42\n",
      "[370 | 888.69] loss=2.28 avg=2.42\n",
      "[380 | 912.28] loss=2.17 avg=2.41\n",
      "[390 | 935.87] loss=2.34 avg=2.41\n",
      "[400 | 959.42] loss=2.24 avg=2.40\n",
      "======== SAMPLE 1 ========\n",
      " about the show.\n",
      "JERRY: And what?\n",
      "GEORGE: I'm a comedian.\n",
      "JERRY: Yeah, well the people are funny they never leave the show. (Takes off of Frogger's helmet and heads for the door) (Leaves)\n",
      "JERRY: Why are you looking at me?\n",
      "GEORGE: (Sarcastic) Uh, I know.\n",
      "JERRY: Why do you think you're the way I am? I'm always a lot more confident around people than I am.\n",
      "GEORGE: Well if I was you, I wouldn't have a whole lot of friends.\n",
      "JERRY: All I know you'd be the worst person. (Kramer enters)\n",
      "KRAMER: Jerry, are you home?\n",
      "JERRY: Yeah. My mother left, so I don't know where she's gone. I'm looking for her car.\n",
      "KRAMER: Oh, I don't know who she's gone to, she left messages..\n",
      "JERRY: What messages?\n",
      "KRAMER: I don't know. I don't know if they're messages from her. I'll tell you the one she left you, it's a lovely bike. (Jerry shrugs)\n",
      "GEORGE: What message is there left?\n",
      "KRAMER: I'll tell you one, you won't believe her messages. You'll have messages. If she wants, you don't have to get involved in it. That was a message for me. (Leaves)\n",
      "JERRY: How does she do that? How does she manipulate that all the time?\n",
      "GEORGE: Is that bad?\n",
      "JERRY: Absolutely. I thought it was very difficult.\n",
      "GEORGE: I know, I know. When you get caught, it's so frustrating.\n",
      "JERRY: It's not frustrating at all. (Leaves) (A car leaves the car dealership, driving Jerry home)\n",
      "JERRY: You're not gonna believe this, does he have any shoes? (A customer passes Jerry and approaches his store)\n",
      "PETERMAN: I got one of these for charity.\n",
      "JERRY: Uh, they have no sale. That could be yours.\n",
      "PETERMAN: No, we've been trying to get them off for years. We can't do it. No one's gonna be interested in them.\n",
      "JERRY: We're stuck at the Titanic, you can't leave. No more tickets, no more tricks.\n",
      "PETERMAN: You know, we're getting pretty close to selling. I told you last year, we had half a million. (Jerry's apartment, George and Kramer enter)\n",
      "KRAMER: Yeah! So, you told me, you know they were going to sell them for just around half your estimated money?\n",
      "JERRY: Oh, they're selling now.\n",
      "KRAMER: What time it is?\n",
      "JERRY: Eight thirty.\n",
      "KRAMER: Well, maybe we'll just call it a night.\n",
      "JERRY: Oh no. We're not going to do it. Now it's six o'clock. Let's just put it on the record for most nights.\n",
      "KRAMER: I'm afraid you're too tired.\n",
      "JERRY: Well what are you going to do?\n",
      "KRAMER: Well, we're not going to give it away for free, we'll just leave it at home.\n",
      "JERRY: What kind of people, are you looking for those shoes?\n",
      "KRAMER: Yeah, I'm looking for a good pair of shoes.\n",
      "JERRY: Well, would you take these to the cleaners?\n",
      "KRAMER: Yeah! Yeah! (George knocks on their door)\n",
      "JERRY: I have the worst idea of all of you, I'm having a party tonight.\n",
      "KRAMER: Well, let me know, let's see if there are any pants on.\n",
      "JERRY: Let me know if there are any pants on. George.\n",
      "JERRY: Well, this is it, I have to go.\n",
      "GEORGE: I can't believe you did something like this to Elaine.\n",
      "JERRY: I am completely out of touch with modern life.\n",
      "GEORGE: All right, let me talk to you for a sec. I'll see you on Monday, George that's all.\n",
      "JERRY: All right.\n",
      "GEORGE: And I got to see this movie tonight.\n",
      "JERRY: Right.\n",
      "GEORGE: I don't even think you did it. My name is Jerry Seinfeld, I'm the star of this show, and I want you to know my name is on this show, this is my show.\n",
      "JERRY: So what did you do?\n",
      "GEORGE: I didn't know, there\n",
      "\n",
      "[410 | 993.52] loss=2.24 avg=2.40\n",
      "[420 | 1017.22] loss=2.37 avg=2.40\n",
      "[430 | 1040.82] loss=2.18 avg=2.39\n",
      "[440 | 1064.34] loss=2.17 avg=2.38\n",
      "[450 | 1087.87] loss=2.39 avg=2.38\n",
      "[460 | 1111.36] loss=2.40 avg=2.38\n",
      "[470 | 1134.87] loss=2.40 avg=2.38\n",
      "[480 | 1158.48] loss=2.17 avg=2.38\n",
      "[490 | 1182.14] loss=2.15 avg=2.37\n",
      "[500 | 1205.80] loss=2.08 avg=2.37\n",
      "Saving checkpoint/run2/model-500\n",
      "WARNING:tensorflow:From /tensorflow-1.15.2/python3.6/tensorflow_core/python/training/saver.py:963: remove_checkpoint (from tensorflow.python.training.checkpoint_management) is deprecated and will be removed in a future version.\n",
      "Instructions for updating:\n",
      "Use standard file APIs to delete files with this prefix.\n",
      "[510 | 1231.70] loss=2.04 avg=2.36\n",
      "[520 | 1255.36] loss=2.14 avg=2.35\n",
      "[530 | 1278.92] loss=2.11 avg=2.35\n",
      "[540 | 1302.56] loss=2.34 avg=2.35\n",
      "[550 | 1326.23] loss=2.22 avg=2.34\n",
      "[560 | 1349.90] loss=1.90 avg=2.33\n",
      "[570 | 1373.49] loss=2.14 avg=2.33\n",
      "[580 | 1396.99] loss=1.97 avg=2.32\n",
      "[590 | 1420.53] loss=1.94 avg=2.31\n",
      "[600 | 1444.17] loss=1.99 avg=2.30\n",
      "======== SAMPLE 1 ========\n",
      " walks.) (Jerry's Car)\n",
      "KRAMER: Jerry, you don't look like that dude.\n",
      "JERRY: Why don't you stop acting like that guy you used to be?\n",
      "KRAMER: I won't do that.\n",
      "JERRY: You won't?\n",
      "KRAMER: I didn't say anything.\n",
      "JERRY: You know, you should do the same thing with Kramer. (Kramer gets out his door, and starts picking up the car; Jerry makes a show of driving off.)\n",
      "JERRY: Well you should, Kramer. I didn't do what you wanted me to do what you wanted me to do! I didn't say this! I have had enough!\n",
      "KRAMER: I know.\n",
      "JERRY: You know what I'm going to do? I'm going to go down to the Van Buren area, and see if any black folks are here.\n",
      "KRAMER: Jerry. It is too late to go.\n",
      "JERRY: So why don't you go into an immigrant community?\n",
      "KRAMER: Look, I'm not suggesting that. I'm not saying that!\n",
      "JERRY: You're right.\n",
      "KRAMER: Look, you can't go into any community. You're destroying our community.\n",
      "JERRY: Well, then why do we have to go? Why can't we leave?\n",
      "KRAMER: Well, I gotta go. I got the whole reservation.\n",
      "JERRY: What about the people coming down from all across the country?\n",
      "KRAMER: It's all about the people. All right. (Cheshire comes down the hall.)\n",
      "CHRIS: How was the trip?\n",
      "JERRY: Good, good, good day.\n",
      "CHRIS: So how are you feeling?\n",
      "JERRY: Great. Good, great day.\n",
      "CHRIS: Good, great. What's the matter, with all due respect, how did you get here?\n",
      "JERRY: I don't know. I'm just glad I went.\n",
      "CHRIS: Good. Great. Great, great place. All right. You going to be here any second?\n",
      "JERRY: Uh, okay. I'll do it. (Newman enters.)\n",
      "NEWMAN: Hey.\n",
      "JERRY: What are you doing here?\n",
      "NEWMAN: I'm watching the movie.\n",
      "JERRY: Uh yeah. Where's the script?\n",
      "NEWMAN: I don't know.\n",
      "JERRY: What?\n",
      "NEWMAN: The script was the worst thing I've ever seen. The first black man in the movie. The first black man who was put through the motions, is probably the worst thing I've ever seen. And if that's not bad enough, there's the scene with the girl who was being escorted out of the restaurant. And then then there's the scene with the woman who was escorted out of business.\n",
      "JERRY: They called me?\n",
      "NEWMAN: Oh yeah? Yes, I think they called you.\n",
      "JERRY: What?\n",
      "NEWMAN: I had this terrible argument with somebody about the date, and then he called the police. And then he called the school. So, you see him being escorted out of a restaurant by an all black woman? That's terrible!\n",
      "JERRY: Would you just move your eyes?\n",
      "NEWMAN: No, just move your eyes, please. I'm just trying to make a point. My friends like to go to that thing, you know the way they're in Alabama? It's a nightmare. Kramer has never been to a restaurant where he was never invited. He's so concerned about his race. When he walks into the restaurant, he hears a noise to give him a raise. That's the same sound that was making him put his car in reverse.\n",
      "KRAMER: Hey, you got some extra seats over there, huh? You got some extra seats over there?\n",
      "CHRIS: What happened? You were only joking.\n",
      "JERRY: No, no, I said he was escorted out of the restaurant because the black woman there was harassing him. And, he didn't apologize. So, he said, 'So, I'm sorry I hit her.' There's some kind of smarm now. Some kind of smarm. 'Buh-bye, blah- blah'- blah- I know the sound of that. You'll never be able to say that in a restaurant now. There's a couple of tables left open and there's a guy in the arm sitting a little too close to the table who looks just like Kramer. So, he pulls back on his seat and Kramer spots the man with the same face. He jumps up and he goes to the table to tell the one who was in front of him what happened.\n",
      "JERRY: You're really trying\n",
      "\n",
      "[610 | 1478.47] loss=2.06 avg=2.30\n",
      "[620 | 1501.97] loss=2.22 avg=2.30\n",
      "[630 | 1525.53] loss=2.05 avg=2.29\n",
      "[640 | 1549.19] loss=2.07 avg=2.29\n",
      "[650 | 1572.85] loss=1.61 avg=2.27\n",
      "[660 | 1596.44] loss=2.07 avg=2.27\n",
      "[670 | 1619.99] loss=2.02 avg=2.26\n",
      "[680 | 1643.50] loss=1.73 avg=2.25\n",
      "[690 | 1667.05] loss=2.27 avg=2.25\n",
      "[700 | 1690.70] loss=2.12 avg=2.25\n",
      "[710 | 1714.40] loss=2.21 avg=2.25\n",
      "[720 | 1738.05] loss=1.58 avg=2.24\n",
      "[730 | 1761.64] loss=2.16 avg=2.24\n",
      "[740 | 1785.21] loss=2.12 avg=2.23\n",
      "[750 | 1808.76] loss=1.79 avg=2.23\n",
      "[760 | 1832.43] loss=2.00 avg=2.22\n",
      "[770 | 1856.06] loss=1.70 avg=2.21\n",
      "[780 | 1879.59] loss=1.69 avg=2.20\n",
      "[790 | 1903.29] loss=1.84 avg=2.20\n",
      "[800 | 1926.98] loss=1.99 avg=2.19\n",
      "======== SAMPLE 1 ========\n",
      ": AH, I'm sorry to bother you. AH, I wouldn't mind. AH, we take great pride - especially when it comes to our health care - to not oversleep with a napkin.\n",
      "JERRY: You seem a little bit sleepy.\n",
      "GEORGE: No, no no, I'm fine. I could feel it myself. (snaps fingers) No, it's nothing serious, but this is a good thing. George gets up and enters and sits down.\n",
      "JERRY: Are you out of your mind? You can't eat like that, you're too fat. AH! How about if you take a nap - you can't get yourself anything done on purpose. You know, I don't even know what I should do. (George snorts and leaves again) You know, we should try putting ice cream in the glass, you know, to scare people off.\n",
      "GEORGE: All right. The waiter comes over and gives George a plate (he takes a piece of ice cream out of the glass)\n",
      "WOMAN: What's with you, you're so cold?\n",
      "GEORGE: No, no, no I'm, ah, almost - ah, ah, nowhere. (he takes a piece)\n",
      "WOMAN: So you don't get to choose.\n",
      "GEORGE: So, where's the nap?\n",
      "WOMAN: I don't know, I forgot to take my nap.\n",
      "GEORGE: All right? (she goes to the counter)\n",
      "WOMAN: I'll get there. (she takes a napkin out of the trash)\n",
      "GEORGE: A napkin?! That's a napkin. (he picks a new piece of paper from the trash) What? (he tries the napkin again)\n",
      "WOMAN: Huh.\n",
      "GEORGE: Huh! (he goes to the counter)\n",
      "WOMAN: How can you change a napkin?! You need a napkin that's been kept in a pile, it's freezing! (she gets up and tries to open the window) But I thought it was the key.\n",
      "GEORGE: I was just trying to jam something in there.\n",
      "WOMAN: You have no idea what your job is, how fast your life's really going to go. (he grabs the pad of paper)\n",
      "GEORGE: Wait, wait, wait wait, wait, wait wait! (he pulls at the pad) Come on. Take this...\n",
      "WOMAN: No! No, I can't take this!\n",
      "GEORGE: Why not?\n",
      "WOMAN: So you just put the napkin in the trash and when you get home, it gets thrown out the window!\n",
      "GEORGE: Why? Because, you're a wimp!\n",
      "WOMAN: Hey, what am I supposed to do?\n",
      "GEORGE: What is with you?\n",
      "WOMAN: Wait until you get home.\n",
      "GEORGE: Wait till you get home?! (he turns back to her)\n",
      "WOMAN: What? What is my job, how long do I have to wait before I can get back on this earth!? (she leaves and opens the door) (she returns with his papers)\n",
      "GEORGE: Oh my God. (she looks at the paper for another minute) Oh my God. Oh God.\n",
      "WOMAN: (to himself) This must be the worst book I've ever read. I can't do this. It's not even writing.\n",
      "GEORGE: All right, I gotta go.\n",
      "WOMAN: Oh go (goes downstairs)\n",
      "GEORGE: Oh I gotta get some air. (he goes to the coffee shop. He comes back with his pants down, and they are still down) Where's the napkin?\n",
      "WOMAN: I think you burned it. (he goes to the fridge)\n",
      "GEORGE: Wha...?\n",
      "WOMAN: Wh...?\n",
      "GEORGE: The coffee shop. You can't leave my house without my house!\n",
      "WOMAN: What if I didn't have a napkin?!\n",
      "WOMAN: It's like you got the same old stuff in the same box with you.\n",
      "GEORGE: All right. I'm gonna get the box and then I'm gonna send this thing to the dump!\n",
      "WOMAN: I don't want the box - it's not mine!\n",
      "WOMAN: It is! It is not!\n",
      "GEORGE: All right, you know what?! It's not the whole story - I don't have the napkin.\n",
      "WOMAN: The thing is, it's a piece of junk!\n",
      "WOMAN: It's an old mattress?\n",
      "GEORGE: I don't know, a piece of junk?!\n",
      "WOMAN: Well that's something.\n",
      "GEORGE: And what if it were a rolled-up newspaper\n",
      "\n",
      "[810 | 1961.12] loss=1.77 avg=2.18\n",
      "[820 | 1984.62] loss=2.07 avg=2.18\n",
      "[830 | 2008.17] loss=1.85 avg=2.18\n",
      "[840 | 2031.89] loss=2.12 avg=2.18\n",
      "[850 | 2055.58] loss=2.00 avg=2.17\n",
      "[860 | 2079.26] loss=1.46 avg=2.16\n",
      "[870 | 2102.80] loss=1.81 avg=2.15\n",
      "[880 | 2126.32] loss=1.53 avg=2.14\n",
      "[890 | 2149.85] loss=1.71 avg=2.14\n",
      "[900 | 2173.38] loss=1.93 avg=2.13\n",
      "[910 | 2196.98] loss=1.87 avg=2.13\n",
      "[920 | 2220.67] loss=1.93 avg=2.12\n",
      "[930 | 2244.25] loss=1.66 avg=2.12\n",
      "[940 | 2267.80] loss=1.65 avg=2.11\n",
      "[950 | 2291.48] loss=1.60 avg=2.10\n",
      "[960 | 2315.17] loss=1.95 avg=2.10\n",
      "[970 | 2338.81] loss=1.67 avg=2.09\n",
      "[980 | 2362.51] loss=1.58 avg=2.08\n",
      "[990 | 2386.10] loss=1.67 avg=2.08\n",
      "[1000 | 2409.65] loss=1.57 avg=2.07\n",
      "Saving checkpoint/run2/model-1000\n"
     ]
    }
   ],
   "source": [
    "sess = gpt2.start_tf_sess()\n",
    "\n",
    "gpt2.finetune(sess,\n",
    "              dataset=file_name,\n",
    "              model_name='124M',\n",
    "              steps=1000,\n",
    "              restore_from='latest',\n",
    "              run_name='run2',\n",
    "              overwrite=True,\n",
    "              print_every=10,\n",
    "              sample_every=200,\n",
    "              save_every=500)"
   ]
  },
  {
   "cell_type": "markdown",
   "metadata": {
    "id": "IXSuTNERaw6K"
   },
   "source": [
    "After the model is trained, you can copy the checkpoint folder to your own Google Drive.\n",
    "\n",
    "If you want to download it to your personal computer, it's strongly recommended you copy it there first, then download from Google Drive. The checkpoint folder is copied as a `.rar` compressed file; you can download it and uncompress it locally."
   ]
  },
  {
   "cell_type": "code",
   "execution_count": 8,
   "metadata": {
    "id": "VHdTL8NDbAh3"
   },
   "outputs": [],
   "source": [
    "gpt2.copy_checkpoint_to_gdrive(run_name='run2')"
   ]
  },
  {
   "cell_type": "markdown",
   "metadata": {
    "id": "qQJgV_b4bmzd"
   },
   "source": [
    "You're done! Feel free to go to the **Generate Text From The Trained Model** section to generate text based on your retrained model."
   ]
  },
  {
   "cell_type": "markdown",
   "metadata": {
    "id": "pel-uBULXO2L"
   },
   "source": [
    "## Load a Trained Model Checkpoint\n",
    "\n",
    "Running the next cell will copy the `.rar` checkpoint file from your Google Drive into the Colaboratory VM."
   ]
  },
  {
   "cell_type": "code",
   "execution_count": 37,
   "metadata": {
    "id": "DCcx5u7sbPTD"
   },
   "outputs": [],
   "source": [
    "gpt2.copy_checkpoint_from_gdrive(run_name='run2')"
   ]
  },
  {
   "cell_type": "markdown",
   "metadata": {
    "id": "RTa6zf3e_9gV"
   },
   "source": [
    "The next cell will allow you to load the retrained model checkpoint + metadata necessary to generate text.\n",
    "\n",
    "**IMPORTANT NOTE:** If you want to rerun this cell, **restart the VM first** (Runtime -> Restart Runtime). You will need to rerun imports but not recopy files."
   ]
  },
  {
   "cell_type": "code",
   "execution_count": null,
   "metadata": {
    "id": "-fxL77nvAMAX"
   },
   "outputs": [],
   "source": [
    "sess = gpt2.start_tf_sess()\n",
    "gpt2.load_gpt2(sess, run_name='run2')"
   ]
  },
  {
   "cell_type": "markdown",
   "metadata": {
    "id": "ClJwpF_ACONp"
   },
   "source": [
    "## Generate Text From The Trained Model\n",
    "\n",
    "After you've trained the model or loaded a retrained model from checkpoint, you can now generate text. `generate` generates a single text from the loaded model."
   ]
  },
  {
   "cell_type": "code",
   "execution_count": 9,
   "metadata": {
    "colab": {
     "base_uri": "https://localhost:8080/"
    },
    "id": "4RNY6RBI9LmL",
    "outputId": "c70a41c2-2dee-4f3f-8c40-de6932939aae"
   },
   "outputs": [
    {
     "name": "stdout",
     "output_type": "stream",
     "text": [
      "KRAMER: I'm still a virgin.\n",
      "GEORGE: You're the one who did it!\n",
      "JERRY: I'm not a virgin!\n",
      "KRAMER: (Picks up a match from the table) This is the guy who told me to meet George at the bookstore and I told him to meet me there.\n",
      "GEORGE: He's gonna see you after I meet him!\n",
      "JERRY: That's why I'm writing this letter! I'm writing from my home in Vermont, where I'm living with my mother and three cats.\n",
      "KRAMER: I'll be right there. (They leave)\n",
      "JERRY: What did he say?\n",
      "KRAMER: He said that I should see him again and that I should stay in business.\n",
      "JERRY: You should stay in business.\n",
      "KRAMER: Yeah, I should do the same.\n",
      "JERRY: Well why don't you stick around. (Scene ends) Elaine's office) (Elaine is reading a newspaper while looking through a magazine. She notices a Polaroid photo of a man and woman kissing)\n",
      "ELAINE: I can't believe this. (Shuts the door) (Scene ends) Jerry's apartment) (Elaine's at his apartment with a Polaroid shot of a man and a woman kissing)\n",
      "ELAINE: (Shuts the door) (Scene ends) The Coffee shop) (Jerry and George are talking, George is drinking coffee)\n",
      "JERRY: What the hell is going on here?\n",
      "GEORGE: What was the card there?\n",
      "JERRY: There was a Manusa number.\n",
      "GEORGE: I don't know, it was on the coffee table.\n",
      "JERRY: I can't remember his name.\n",
      "GEORGE: You know they got busy on the coffee table, you know. (They enter Jerry's apartment)\n",
      "JERRY: There's a Puerto Rican guy in there.\n",
      "GEORGE: Kramer, what was that card?\n",
      "JERRY: Oh, I didn't realize it was there.\n",
      "GEORGE: What?!\n",
      "JERRY: It was a card from my uncle. He gave it to me, I said I'd call him.\n",
      "GEORGE: You mean his wife gave it to you?\n",
      "JERRY: No, she's a writer.\n",
      "GEORGE: I know. All day long. (A psychic walks in)\n",
      "JERRY: What's that?\n",
      "NURSE: It's a message from a child psychiatrist.\n",
      "GEORGE: She's a psychic.\n",
      "JERRY: She's a psychic? What was that card?\n",
      "NURSE: It says 'Paying respects to Dr. Reston'.\n",
      "GEORGE: All right, but I'm going to have to take off my shoes and I got a big sweat on my new coat.\n",
      "NURSE: I gotta go find a job.\n",
      "GEORGE: You know, I'm going to miss the train. I'm not going back to the theater. I'll just be going home.\n",
      "NURSE: You don't have to go. You know, we heard a lot about you.\n",
      "GEORGE: I'm telling you, it's amazing what a gift a lifetime can have.\n",
      "NURSE: How do you take off your shoes, put on a coat, go to a mental institution?\n",
      "GEORGE: I don't know. I'm not sure.\n",
      "NURSE: You must have been crazy.\n",
      "GEORGE: I'm just kidding. I don't think that was in a mental institution.\n",
      "NURSE: Jerry, you need a mental institution.\n",
      "JERRY: I'm not insane.\n",
      "GEORGE: I'm probably not.\n",
      "NURSE: How do you get a mental institution?\n",
      "GEORGE: I'll get a mental institution. I wanna be a mental institution myself.\n",
      "NURSE: All right, why don't we get together some time.\n",
      "JERRY: I'll take care of myself.\n",
      "NURSE: I've got to get back to my job.\n",
      "GEORGE: I'm not going to be back to my job.\n",
      "NURSE: All right, I think I gotta go to my doctor.\n",
      "GEORGE: All right.\n",
      "NURSE: When you get to your doctor, you don't have to walk around like this again.\n",
      "JERRY: All right.\n",
      "NURSE: All right. (Scene ends) Elaine's office) (Elaine and her boss are talking)\n",
      "ELAINE: I have always felt that the most important thing in the world is spending time with family and doing good things. I've never been a big spendthriller guy, but my previous works may have been very good. But, I've always felt that the most important thing in\n"
     ]
    }
   ],
   "source": [
    "gpt2.generate(sess, run_name='run2')"
   ]
  },
  {
   "cell_type": "markdown",
   "metadata": {
    "id": "oF4-PqF0Fl7R"
   },
   "source": [
    "If you're creating an API based on your model and need to pass the generated text elsewhere, you can do `text = gpt2.generate(sess, return_as_list=True)[0]`\n",
    "\n",
    "You can also pass in a `prefix` to the generate function to force the text to start with a given character sequence and generate text from there (good if you add an indicator when the text starts).\n",
    "\n",
    "You can also generate multiple texts at a time by specifing `nsamples`. Unique to GPT-2, you can pass a `batch_size` to generate multiple samples in parallel, giving a massive speedup (in Colaboratory, set a maximum of 20 for `batch_size`).\n",
    "\n",
    "Other optional-but-helpful parameters for `gpt2.generate` and friends:\n",
    "\n",
    "*  **`length`**: Number of tokens to generate (default 1023, the maximum)\n",
    "* **`temperature`**: The higher the temperature, the crazier the text (default 0.7, recommended to keep between 0.7 and 1.0)\n",
    "* **`top_k`**: Limits the generated guesses to the top *k* guesses (default 0 which disables the behavior; if the generated output is super crazy, you may want to set `top_k=40`)\n",
    "* **`top_p`**: Nucleus sampling: limits the generated guesses to a cumulative probability. (gets good results on a dataset with `top_p=0.9`)\n",
    "* **`truncate`**: Truncates the input text until a given sequence, excluding that sequence (e.g. if `truncate='<|endoftext|>'`, the returned text will include everything before the first `<|endoftext|>`). It may be useful to combine this with a smaller `length` if the input texts are short.\n",
    "*  **`include_prefix`**: If using `truncate` and `include_prefix=False`, the specified `prefix` will not be included in the returned text."
   ]
  },
  {
   "cell_type": "code",
   "execution_count": 11,
   "metadata": {
    "colab": {
     "base_uri": "https://localhost:8080/"
    },
    "id": "8DKMc0fiej4N",
    "outputId": "a8eae319-2978-4e27-d648-7de8c51df58a"
   },
   "outputs": [
    {
     "name": "stdout",
     "output_type": "stream",
     "text": [
      "FRANK: He thinks I'm a phony.\n",
      "GEORGE: What are you gonna do now? You're gonna fall for my face? (Kramer comes back with Jerry)\n",
      "JERRY: I'm gonna be like a burrito. I'm gonna go to his apartment and use the shower. I'll pretend he's calling from my purse.\n",
      "KRAMER: Sounds like a good idea. (Monk's)\n",
      "GEORGE: Kramer, you're fiending.\n",
      "ELAINE: No, I'm never going to a party.\n",
      "KRAMER: But if you're going to a party, I'm not going to be a phony.\n",
      "ELAINE: Yeah, but Kramer, you know how you incorporate fake relationships into your acting career, 'cos they usually end up turning heads.\n",
      "KRAMER: Neither am I. Opening Night. George and Jerry are there.\n",
      "GEORGE: Hey look, what's the difference. I'm dressing!\n",
      "JERRY: You're not dressing.\n",
      "GEORGE: I am dressed!\n",
      "JERRY: Really? Look at this, you've got like a beautiful face!\n",
      "GEORGE: You might wanna see.\n",
      "JER\n",
      "====================\n",
      "FRANK: That was wonderful!\n",
      "ELAINE: Oh, great... Full story here: \"The Great Gatski\"... And it's a beautiful lesson in how to make a normal conversation.\n",
      "GEORGE: Great, we're right back.\n",
      "KRAMER: Yeah, they admit they'd made a mistake.\n",
      "GEORGE: How's your conscience?\n",
      "KRAMER: Eh, uh, I too committed a massive faux pas. And now I need to pay the cancellation.\n",
      "GEORGE: Oh! (taking the money) Armand And Daley?\n",
      "KRAMER: Doris? It's a comedian, she doesn't know what the hell she's doin' here.\n",
      "GEORGE: Well, you come back here, you're bound to get hit by the wheel. You leave with a scratch on the hand. As far as I know, you haven't paid that cancellation yet. Now, now, now, now. That's the rules of the business, pal. If you make a mistake you should still be entitled to the refund.\n",
      "KRAMER: Wait a second... That '92 Cadillac? It was crazy fine... It was ticketed under false names... What happened to\n",
      "====================\n",
      "FRANK: Hey, I thank you. I made a very special delivery.\n",
      "GEORGE: (upset) Well, let's face it, we lost time.\n",
      "JERRY: Time?\n",
      "GEORGE: What time?\n",
      "JERRY: 4:00 P.M.\n",
      "GEORGE: So, what time is your flight?\n",
      "JERRY: Wh...four? I'll fly back at four.\n",
      "GEORGE: I can't, I don't have enough time.\n",
      "JERRY: Well, what time is it?\n",
      "ELAINE: Four:15 P.M.\n",
      "JERRY: Well, I'll see you at four.\n",
      "GEORGE: Hey, Can I get a margarita before the flight, please?\n",
      "ELAINE: No, thanks. Well, I'll look forward to seeing the Pierrot mug.\n",
      "GEORGE: Ah, She's not coming back 'bout this weekend.\n",
      "ELAINE: No, no, it'd be nice to meet She!\n",
      "JERRY: Well, it's a lovely weekend in paradise.\n",
      "ELAINE: I can't. I was just here.\n",
      "JERRY: A\n",
      "====================\n",
      "FRANK: She's a kitty, isn't she?\n",
      "ELAINE: John, I want you to do me a big favor.\n",
      "JERRY: Tell Kramer to get another appointment with a mental institution.\n",
      "ELAINE: Well, thank you very much.\n",
      "JERRY: Next day, where's that special little kick back?\n",
      "ELAINE: (stern) Oh, Mr. Costanza, it's almost time. I need ya' to help me locate my missing toilet bag.\n",
      "ELAINE: Eh? (dread) Uh uh, I'll make sure of that.\n",
      "ELAINE: Okay.\n",
      "GEORGE: What about this tee?\n",
      "GEORGE: Where's that tee?\n",
      "FRANK: This tee is too small.\n",
      "GEORGE: I'm big. I can play anywhere I want and, uh, here we are, it's at once.\n",
      "GEORGE: I'm already big.\n",
      "GEORGE: Are you trying to get me?\n",
      "FRANK: I am trying to get Kramer.\n",
      "KRAMER: Well, why is this guy getting a new tee? Where's his V-ball?\n",
      "FRANK: The funny thing\n",
      "====================\n",
      "FRANK: I got no apartment. (Fries nervously)\n",
      "GEORGE: (To Jerry) Come on, you better go.\n",
      "JERRY: Why can't I go?\n",
      "GEORGE: Because, Kramer doesn't want to talk about this. (Elaine enters)\n",
      "ELAINE: Hey! (couple are pushing boxes)\n",
      "GEORGE: (From the filing cabinet) Oh, Elaine.\n",
      "ELAINE: I guess we're just going out for the weekend.\n",
      "GEORGE: The weekend? That's the weekend! I haven't had a squeeze in two months! This is unprecedented.\n",
      "ELAINE: Jerry, what was the operation like? I went from the operating room to the act of beingplomb!\n",
      "JERRY: You don't know what the operation looked like.\n",
      "ELAINE: Oh, come on. Are you crazy?\n",
      "JERRY: Yeah, I'm a little.\n",
      "ELAINE: So, what's your weekend like? (Between laughs) What does that mean?\n",
      "JERRY: Yeah, I try to stay out of the weekend too. This is my chance to do something crazy, do something in the weekend, do\n",
      "====================\n"
     ]
    }
   ],
   "source": [
    "gpt2.generate(sess,\n",
    "              length=250,\n",
    "              temperature=0.9,\n",
    "              prefix=\"FRANK\",\n",
    "              nsamples=5,\n",
    "              batch_size=5\n",
    "              )"
   ]
  },
  {
   "cell_type": "markdown",
   "metadata": {
    "id": "zjjEN2Tafhl2"
   },
   "source": [
    "For bulk generation, you can generate a large amount of text to a file and sort out the samples locally on your computer. The next cell will generate a generated text file with a unique timestamp.\n",
    "\n",
    "You can rerun the cells as many times as you want for even more generated texts!"
   ]
  },
  {
   "cell_type": "code",
   "execution_count": 29,
   "metadata": {
    "id": "Fa6p6arifSL0"
   },
   "outputs": [],
   "source": [
    "gen_file = 'gpt2_gentext_{:%Y%m%d_%H%M%S}.txt'.format(datetime.utcnow())\n",
    "\n",
    "gpt2.generate_to_file(sess,\n",
    "                      destination_path=gen_file,\n",
    "                      length=500,\n",
    "                      prefix=\"KRAMER\",\n",
    "                      temperature=1,\n",
    "                      nsamples=100,\n",
    "                      batch_size=20\n",
    "                      )"
   ]
  },
  {
   "cell_type": "code",
   "execution_count": 30,
   "metadata": {
    "colab": {
     "base_uri": "https://localhost:8080/",
     "height": 17
    },
    "id": "0-LRex8lfv1g",
    "outputId": "aa8c892a-d527-43bc-83c7-537133ac914f"
   },
   "outputs": [
    {
     "data": {
      "application/javascript": [
       "\n",
       "    async function download(id, filename, size) {\n",
       "      if (!google.colab.kernel.accessAllowed) {\n",
       "        return;\n",
       "      }\n",
       "      const div = document.createElement('div');\n",
       "      const label = document.createElement('label');\n",
       "      label.textContent = `Downloading \"${filename}\": `;\n",
       "      div.appendChild(label);\n",
       "      const progress = document.createElement('progress');\n",
       "      progress.max = size;\n",
       "      div.appendChild(progress);\n",
       "      document.body.appendChild(div);\n",
       "\n",
       "      const buffers = [];\n",
       "      let downloaded = 0;\n",
       "\n",
       "      const channel = await google.colab.kernel.comms.open(id);\n",
       "      // Send a message to notify the kernel that we're ready.\n",
       "      channel.send({})\n",
       "\n",
       "      for await (const message of channel.messages) {\n",
       "        // Send a message to notify the kernel that we're ready.\n",
       "        channel.send({})\n",
       "        if (message.buffers) {\n",
       "          for (const buffer of message.buffers) {\n",
       "            buffers.push(buffer);\n",
       "            downloaded += buffer.byteLength;\n",
       "            progress.value = downloaded;\n",
       "          }\n",
       "        }\n",
       "      }\n",
       "      const blob = new Blob(buffers, {type: 'application/binary'});\n",
       "      const a = document.createElement('a');\n",
       "      a.href = window.URL.createObjectURL(blob);\n",
       "      a.download = filename;\n",
       "      div.appendChild(a);\n",
       "      a.click();\n",
       "      div.remove();\n",
       "    }\n",
       "  "
      ],
      "text/plain": [
       "<IPython.core.display.Javascript object>"
      ]
     },
     "metadata": {
      "tags": []
     },
     "output_type": "display_data"
    },
    {
     "data": {
      "application/javascript": [
       "download(\"download_7de4adc3-2bc9-41c1-a81b-919827201b05\", \"gpt2_gentext_20201125_072112.txt\", 167698)"
      ],
      "text/plain": [
       "<IPython.core.display.Javascript object>"
      ]
     },
     "metadata": {
      "tags": []
     },
     "output_type": "display_data"
    }
   ],
   "source": [
    "# may have to run twice to get file to download\n",
    "files.download(gen_file)"
   ]
  },
  {
   "cell_type": "markdown",
   "metadata": {
    "id": "ig-KVgkCDCKD"
   },
   "source": [
    "# Etcetera\n",
    "\n",
    "If the notebook has errors (e.g. GPU Sync Fail), force-kill the Colaboratory virtual machine and restart it with the command below:"
   ]
  },
  {
   "cell_type": "code",
   "execution_count": null,
   "metadata": {
    "id": "rIHiVP53FnsX"
   },
   "outputs": [],
   "source": [
    "!kill -9 -1"
   ]
  }
 ],
 "metadata": {
  "accelerator": "GPU",
  "colab": {
   "collapsed_sections": [],
   "name": "Copy of Train a GPT-2 Text-Generating Model w/ GPU",
   "provenance": []
  },
  "environment": {
   "name": "tf2-2-3-gpu.2-3.m59",
   "type": "gcloud",
   "uri": "gcr.io/deeplearning-platform-release/tf2-2-3-gpu.2-3:m59"
  },
  "kernelspec": {
   "display_name": "Python 3",
   "language": "python",
   "name": "python3"
  },
  "language_info": {
   "codemirror_mode": {
    "name": "ipython",
    "version": 3
   },
   "file_extension": ".py",
   "mimetype": "text/x-python",
   "name": "python",
   "nbconvert_exporter": "python",
   "pygments_lexer": "ipython3",
   "version": "3.7.8"
  }
 },
 "nbformat": 4,
 "nbformat_minor": 4
}
