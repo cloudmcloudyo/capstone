{
 "cells": [
  {
   "cell_type": "markdown",
   "metadata": {
    "id": "H7LoMj4GA4n_"
   },
   "source": [
    "[Max Woolf](https://github.com/minimaxir/gpt-2-simple)\n",
    "\n"
   ]
  },
  {
   "cell_type": "code",
   "execution_count": 2,
   "metadata": {
    "colab": {
     "base_uri": "https://localhost:8080/"
    },
    "id": "KBkpRgBCBS2_",
    "outputId": "0c7efaa6-ca10-42d4-c67c-5e5f413b4665"
   },
   "outputs": [
    {
     "name": "stdout",
     "output_type": "stream",
     "text": [
      "TensorFlow 1.x selected.\n",
      "WARNING:tensorflow:\n",
      "The TensorFlow contrib module will not be included in TensorFlow 2.0.\n",
      "For more information, please see:\n",
      "  * https://github.com/tensorflow/community/blob/master/rfcs/20180907-contrib-sunset.md\n",
      "  * https://github.com/tensorflow/addons\n",
      "  * https://github.com/tensorflow/io (for I/O related ops)\n",
      "If you depend on functionality not listed there, please file an issue.\n",
      "\n"
     ]
    }
   ],
   "source": [
    "%tensorflow_version 1.x\n",
    "!pip install -q gpt-2-simple\n",
    "import gpt_2_simple as gpt2\n",
    "from datetime import datetime\n",
    "from google.colab import files"
   ]
  },
  {
   "cell_type": "markdown",
   "metadata": {
    "id": "0wXB05bPDYxS"
   },
   "source": [
    "## Downloading GPT-2\n",
    "\n",
    "If you're retraining a model on new text, you need to download the GPT-2 model first. \n",
    "\n",
    "There are three released sizes of GPT-2:\n",
    "\n",
    "* `124M` (default): the \"small\" model, 500MB on disk.\n",
    "* `355M`: the \"medium\" model, 1.5GB on disk.\n",
    "* `774M`: the \"large\" model, cannot currently be finetuned with Colaboratory but can be used to generate text from the pretrained model (see later in Notebook)\n",
    "* `1558M`: the \"extra large\", true model. Will not work if a K80 GPU is attached to the notebook. (like `774M`, it cannot be finetuned).\n",
    "\n",
    "Larger models have more knowledge, but take longer to finetune and longer to generate text. You can specify which base model to use by changing `model_name` in the cells below.\n",
    "\n",
    "The next cell downloads it from Google Cloud Storage and saves it in the Colaboratory VM at `/models/<model_name>`.\n",
    "\n",
    "This model isn't permanently saved in the Colaboratory VM; you'll have to redownload it if you want to retrain it at a later time."
   ]
  },
  {
   "cell_type": "code",
   "execution_count": 3,
   "metadata": {
    "colab": {
     "base_uri": "https://localhost:8080/"
    },
    "id": "P8wSlgXoDPCR",
    "outputId": "9eef7406-8d5e-4b8a-eda8-4d46b8dbeb47"
   },
   "outputs": [
    {
     "name": "stderr",
     "output_type": "stream",
     "text": [
      "Fetching checkpoint: 1.05Mit [00:00, 269Mit/s]                                                      \n",
      "Fetching encoder.json: 1.05Mit [00:00, 111Mit/s]                                                    \n",
      "Fetching hparams.json: 1.05Mit [00:00, 564Mit/s]                                                    \n",
      "Fetching model.ckpt.data-00000-of-00001: 498Mit [00:12, 39.4Mit/s]                                  \n",
      "Fetching model.ckpt.index: 1.05Mit [00:00, 235Mit/s]                                                \n",
      "Fetching model.ckpt.meta: 1.05Mit [00:00, 166Mit/s]                                                 \n",
      "Fetching vocab.bpe: 1.05Mit [00:00, 168Mit/s]                                                       \n"
     ]
    }
   ],
   "source": [
    "gpt2.download_gpt2(model_name=\"124M\")"
   ]
  },
  {
   "cell_type": "code",
   "execution_count": 4,
   "metadata": {
    "colab": {
     "base_uri": "https://localhost:8080/"
    },
    "id": "puq4iC6vUAHc",
    "outputId": "1cec1f5c-957e-43ea-b3db-9b4cf0e0d9ea"
   },
   "outputs": [
    {
     "name": "stdout",
     "output_type": "stream",
     "text": [
      "Mounted at /content/drive\n"
     ]
    }
   ],
   "source": [
    "gpt2.mount_gdrive()"
   ]
  },
  {
   "cell_type": "code",
   "execution_count": 6,
   "metadata": {
    "id": "6OFnPCLADfll"
   },
   "outputs": [],
   "source": [
    "file_name = \"for_train.txt\"\n",
    "gpt2.copy_file_from_gdrive(file_name)"
   ]
  },
  {
   "cell_type": "markdown",
   "metadata": {
    "id": "LdpZQXknFNY3"
   },
   "source": [
    "## Finetune GPT-2\n",
    "\n",
    "The next cell will start the actual finetuning of GPT-2. It creates a persistent TensorFlow session which stores the training config, then runs the training for the specified number of `steps`. (to have the finetuning run indefinitely, set `steps = -1`)\n",
    "\n",
    "The model checkpoints will be saved in `/checkpoint/run1` by default. The checkpoints are saved every 500 steps (can be changed) and when the cell is stopped.\n",
    "\n",
    "The training might time out after 4ish hours; make sure you end training and save the results so you don't lose them!\n",
    "\n",
    "**IMPORTANT NOTE:** If you want to rerun this cell, **restart the VM first** (Runtime -> Restart Runtime). You will need to rerun imports but not recopy files.\n",
    "\n",
    "Other optional-but-helpful parameters for `gpt2.finetune`:\n",
    "\n",
    "\n",
    "*  **`restore_from`**: Set to `fresh` to start training from the base GPT-2, or set to `latest` to restart training from an existing checkpoint.\n",
    "* **`sample_every`**: Number of steps to print example output\n",
    "* **`print_every`**: Number of steps to print training progress.\n",
    "* **`learning_rate`**:  Learning rate for the training. (default `1e-4`, can lower to `1e-5` if you have <1MB input data)\n",
    "*  **`run_name`**: subfolder within `checkpoint` to save the model. This is useful if you want to work with multiple models (will also need to specify  `run_name` when loading the model)\n",
    "* **`overwrite`**: Set to `True` if you want to continue finetuning an existing model (w/ `restore_from='latest'`) without creating duplicate copies. "
   ]
  },
  {
   "cell_type": "code",
   "execution_count": 7,
   "metadata": {
    "colab": {
     "base_uri": "https://localhost:8080/"
    },
    "id": "aeXshJM-Cuaf",
    "outputId": "3c90c8b7-2596-4375-c2c2-dda97b50864e",
    "scrolled": true
   },
   "outputs": [
    {
     "name": "stdout",
     "output_type": "stream",
     "text": [
      "WARNING:tensorflow:From /usr/local/lib/python3.6/dist-packages/gpt_2_simple/src/sample.py:17: where (from tensorflow.python.ops.array_ops) is deprecated and will be removed in a future version.\n",
      "Instructions for updating:\n",
      "Use tf.where in 2.0, which has the same broadcast rule as np.where\n",
      "Loading checkpoint models/124M/model.ckpt\n",
      "INFO:tensorflow:Restoring parameters from models/124M/model.ckpt\n"
     ]
    },
    {
     "name": "stderr",
     "output_type": "stream",
     "text": [
      "  0%|          | 0/1 [00:00<?, ?it/s]"
     ]
    },
    {
     "name": "stdout",
     "output_type": "stream",
     "text": [
      "Loading dataset...\n"
     ]
    },
    {
     "name": "stderr",
     "output_type": "stream",
     "text": [
      "100%|██████████| 1/1 [00:05<00:00,  5.34s/it]\n"
     ]
    },
    {
     "name": "stdout",
     "output_type": "stream",
     "text": [
      "dataset has 1090522 tokens\n",
      "Training...\n",
      "[50 | 47.39] loss=2.46 avg=2.46\n",
      "[100 | 88.76] loss=2.37 avg=2.42\n",
      "[150 | 130.17] loss=2.43 avg=2.42\n",
      "[200 | 171.41] loss=2.48 avg=2.44\n",
      "[250 | 212.69] loss=2.52 avg=2.46\n",
      "[300 | 254.21] loss=2.50 avg=2.46\n",
      "[350 | 295.54] loss=2.21 avg=2.43\n",
      "[400 | 336.76] loss=2.15 avg=2.39\n",
      "[450 | 378.10] loss=2.20 avg=2.37\n",
      "[500 | 419.41] loss=2.44 avg=2.37\n",
      "Saving checkpoint/run1/model-500\n",
      "======== SAMPLE 1 ========\n",
      " of the new toys. (Gets up) Oh, oh, oh, oh-ohs, oh, oh, oh-ohs.\n",
      "ELAINE: Well... (Kramer approaches to give her hand a good shake)\n",
      "KRAMER: Hey, look, look. Jerry, look at me. Do you know what we did in Season 4?\n",
      "JERRY: You don't think?...\n",
      "KRAMER: I had a friend say he's gonna let everyone know that he's a friend of mine and that my wife is in love with him... (Elaine starts laughing)\n",
      "ELAINE: (To Kramer) You know, you must have... Kramer and Elaine\n",
      "ELAINE: Yes!!! (Kramer gets up to leave.) (Scene ends) (Jerry's car)\n",
      "JERRY: So? I guess the guy's a man...\n",
      "GEORGE: What?\n",
      "JERRY: (Sarcastic) Not really...\n",
      "GEORGE: So what are we gonna do?\n",
      "JERRY: Well, we're gonna be out of town.\n",
      "GEORGE: So, what's our next move?\n",
      "JERRY: Nothing. (The door is slammed shut. Kramer opens it, grabs hold of it and holds it for a few seconds. He walks into Jerry's apartment)\n",
      "KRAMER: Where you going, Jerry?\n",
      "JERRY: That's where I get the books.\n",
      "KRAMER: I got books!\n",
      "JERRY: (Sarcastic) I need books! (Scene ends) (Street Outside Hospital )\n",
      "JERRY: So this is the place where the books got taken?\n",
      "KRAMER: The girls' room. This stuff's piled high with papers, stuff like that. So if it was on the street outside of here...\n",
      "JERRY: It was too much work to do it... (Scene ends) (The Costanza Street Bar )\n",
      "ELAINE: George, you gotta see me. George, you gotta see me.\n",
      "ELAINE: Why?\n",
      "GEORGE: It was the worst. You know you've ever had some stomach trouble. Like all the girls have something like this.\n",
      "ELAINE: You can't handle 'em. I'm outta here.\n",
      "GEORGE: There must be a reason.\n",
      "ELAINE: (Getting along with George, nodding) So, I guess that's it...\n",
      "GEORGE: (Pointing) What have you got to lose.\n",
      "ELAINE: I got nothing on you for. You know there must be more to life than a little bit of junk. Kramer got away with it, you can't go back.\n",
      "GEORGE: You coulda gone.\n",
      "ELAINE: Elaine, it's all right.\n",
      "KRAMER: (Looking around) I really think we can get along here.\n",
      "PANIA: Jerry, I'm not saying anything. (Gets up and leaves the restaurant)\n",
      "JERRY: So, you want to get together with me at all?\n",
      "PUBLICAN: Why don't you have sex tonight?\n",
      "JERRY: I think it would be perfectly fine. I could have it all tomorrow. (Kramer enters smiling in the parking lot)\n",
      "JERRY: Look! I'm going to the bookstore! I'm going to the bookstore! (Scene ends) (Street Outside The Costanza's Hospital )\n",
      "ELAINE: So... the girls did get taken there, and that's all the time I have right here in Brooklyn.\n",
      "KRAMER: What is that about?\n",
      "ELAINE: You know, you're supposed to have sex with me right next to the other girls.\n",
      "JERRY: It's not legal.\n",
      "ELAINE: All the girls should be doing a lot of their work together. It's a bad situation. (Kramer enters the street as he is leaving the hospital)\n",
      "KRAMER: The girls went crazy. (Starts walking toward the table in the parking lot. Kramer stops, looks at one of the girls in the parking lot)\n",
      "ELAINE: So what did they do?\n",
      "KRAMER: All the girls.\n",
      "ELAINE: You think they were gang-raped?\n",
      "KRAMER: Well maybe.\n",
      "ELAINE: (Gives him a look) Maybe.\n",
      "KRAMER: I don't know what they were trying to do!\n",
      "ELAINE: What is it with these girls?\n",
      "KRAMER: All the girls.\n",
      "ELAINE: I thought the girls were gang-raped in front of these girls and that's all that was happening. I don't know if they were trying to commit any crimes...\n",
      "GEORGE: I couldn't imagine.\n",
      "ELAINE: What if you didn't?\n",
      "GEORGE: No, she's\n",
      "\n",
      "[550 | 474.76] loss=2.03 avg=2.34\n",
      "[600 | 515.98] loss=1.99 avg=2.31\n",
      "[650 | 557.23] loss=1.89 avg=2.28\n",
      "[700 | 598.62] loss=2.00 avg=2.26\n",
      "[750 | 639.80] loss=1.90 avg=2.23\n",
      "[800 | 681.01] loss=1.95 avg=2.21\n",
      "[850 | 722.37] loss=2.02 avg=2.20\n",
      "[900 | 763.65] loss=1.84 avg=2.18\n",
      "[950 | 804.94] loss=1.46 avg=2.14\n",
      "[1000 | 846.34] loss=1.74 avg=2.11\n",
      "Saving checkpoint/run1/model-1000\n",
      "WARNING:tensorflow:From /tensorflow-1.15.2/python3.6/tensorflow_core/python/training/saver.py:963: remove_checkpoint (from tensorflow.python.training.checkpoint_management) is deprecated and will be removed in a future version.\n",
      "Instructions for updating:\n",
      "Use standard file APIs to delete files with this prefix.\n",
      "======== SAMPLE 1 ========\n",
      ": Uh ... George, ahh... I'm sorry, Mr. Steinbrenner. Uh, you can leave. You're not welcome in here any more. George is going to have to meet my parents back in New York for two weeks so I'm giving you these. (Exits.) Jerry's Apartment\n",
      "JERRY: George is going to the cleaners?\n",
      "ELAINE: What'd he say?\n",
      "JERRY: Well, he could have told Kramer I was clean...\n",
      "ELAINE: I knew I was clean then I told George I was not!\n",
      "JERRY: Well he didn't have to yell! He's fired! You know how my parents live here?\n",
      "ELAINE: Well I'm not gonna do anything to him.\n",
      "JERRY: Well why not? Elaine gets up to leave. She walks to some furniture in the bedroom.\n",
      "ELAINE: You know my parents' house was built to last.\n",
      "JERRY: It's hard to make a living when you're five years old.\n",
      "ELAINE: I gotta tell you, I'm sick of this. It used to be fun.\n",
      "JERRY: It's not fun anymore. I guess I'm sick of it too. She goes to the bathroom, they go home. Jerry goes into the bathroom. It's very hot and very hot.\n",
      "ELAINE: Hello? Hello. Are you all right?\n",
      "JERRY: Oh, sorry. I was just messing around with this stuff. I want you to go.\n",
      "ELAINE: Oh, I'm sorry, I just thought of a few things.\n",
      "JERRY: Well, goodnight. Jerry gets up and leaves.\n",
      "NEWMAN: Jerry, what are you doing?\n",
      "JERRY: I'm just going upstairs, please.\n",
      "NEWMAN: Well, should we go?\n",
      "JERRY: No, I just found something that might be of use.\n",
      "NEWMAN: Alright, I'm just gonna pick you up.\n",
      "NEWMAN: Goodnight.\n",
      "JERRY: Goodnight.\n",
      "RAMON: What is that?\n",
      "JERRY: It's Ramon's birthday.\n",
      "RAMON: Oh, congratulations.\n",
      "JERRY: I'm sorry, what're you gonna do? You'll go to a birthday party with me or something.\n",
      "RAMON: No plans?\n",
      "JERRY: No plans.\n",
      "RAMON: All birthday packages?\n",
      "JERRY: No and no thanks. Ramon leaves. Jerry picks up the phone and dials. There's a knock at the door.\n",
      "JERRY: Whoa!\n",
      "KRAMER: Yeah, I'm just gonna check up on George and see if I had any trouble with the sweep. (tries to reach Kramer) No problem?\n",
      "JERRY: No problem! You got me a gift.\n",
      "KRAMER: Yeah, you're a superhero!\n",
      "JERRY: Well, I don't know why I got the wrong number.\n",
      "KRAMER: You know, you're a superhero, so you feel like you could use a birthday present?\n",
      "JERRY: No, I think I do too. (laughing) A birthday present?\n",
      "KRAMER: Yeah, a birthday present is a present.\n",
      "JERRY: And it's not just a present. Even a superhero life has a wish, a wish like that.\n",
      "KRAMER: Right.\n",
      "JERRY: That's a nice touch.\n",
      "KRAMER: Y'know what, Jerry, can I have the birthday present for you?\n",
      "JERRY: Yeah.\n",
      "KRAMER: Y'know, it would be nice if, just because a person lives a *life* differently than a regular person, you could somehow *convert* that person into one of those people you just described?\n",
      "JERRY: Actually, that's what I would do.\n",
      "KRAMER: Yeah, I'd just *kill* the present and get it back.\n",
      "JERRY: Why not?\n",
      "KRAMER: Y'know, I think it's a gift. You know, for someone who doesn't already have a birthday wish, it could be attractive.\n",
      "JERRY: I'm not talking about a superhero.\n",
      "KRAMER: I'm not talking *about* you*! It's more like a *girlfriend*...\n",
      "JERRY: You know, I've heard of *Robin* Mandelbaum...\n",
      "KRAMER: Yeah, hello...\n",
      "JERRY: What?\n",
      "KRAMER: I'm talking about my mother-\n",
      "JERRY: Mother- Dad-\n",
      "KRAMER: I've been thinking... what is going on here? You'll be in prison by now.\n",
      "JERRY: But I'm in the prison, and I'm\n",
      "\n",
      "[1050 | 899.84] loss=1.95 avg=2.11\n",
      "[1100 | 941.09] loss=1.67 avg=2.08\n",
      "[1150 | 982.34] loss=1.82 avg=2.07\n",
      "[1200 | 1023.54] loss=1.72 avg=2.05\n",
      "[1250 | 1064.90] loss=1.42 avg=2.03\n",
      "[1300 | 1106.11] loss=1.32 avg=2.00\n",
      "[1350 | 1147.26] loss=1.67 avg=1.98\n",
      "[1400 | 1188.44] loss=1.25 avg=1.95\n",
      "[1450 | 1229.72] loss=1.06 avg=1.92\n",
      "[1500 | 1270.97] loss=1.29 avg=1.89\n",
      "Saving checkpoint/run1/model-1500\n",
      "======== SAMPLE 1 ========\n",
      "RY: Come back after the break. What does he owe you?\n",
      "PUDDY: I can't even say anything good about this guy to nobody. Nobody listens.\n",
      "ELAINE: Come on, let's go.\n",
      "JERRY: We'll go to the coffee shop.\n",
      "PUDDY: I am not going to the cafe.\n",
      "ELAINE: But it is impossible to go to the cafe. It's closed on me. You should come and visit the little people. I believe my people are better off in this cafe.\n",
      "KRAMER: I wonder what the cafe looks like if it didn't close.\n",
      "JERRY: There should be a little cafe on the corner. Joe Mayo would eat there.\n",
      "ELAINE: You're saying: \"C'mon, we're eating here.\"\n",
      "JERRY: \"There's a little cafe right next door.\" is not a phrase. Coffee shop, diner, bus stop; all these have different uses. It would seem that each could use and sell coffee, and each could deliver the same goods to its customer. But there really must be a place selling just coffee.\n",
      "GEORGE: I just don't think it's possible.\n",
      "JERRY: Why not?\n",
      "GEORGE: Because it's open.\n",
      "JERRY: It's open. George: \"C'mon, we're eating here.\" What does that mean?\n",
      "GEORGE: It's a little cafe.\n",
      "JERRY: It could be a little coffee shop.\n",
      "GEORGE: Yeah. Could be coffee shop.\n",
      "JERRY: I don't think so.\n",
      "GEORGE: No. I don't think so.\n",
      "JERRY: Come on. Maybe a little cafe, maybe a lot of coffee shop.\n",
      "GEORGE: Oh come on. I don't like the name George. I like the fact that it's Joe Mayo's name.\n",
      "JERRY: Joe Mayo? Is that Joe Mayo?\n",
      "GEORGE: Yeah. He's Joe Mayo.\n",
      "KRAMER: Hey.\n",
      "JERRY: Hey. Hey. Hey! What's he doing here?\n",
      "KRAMER: Come on George, come on.\n",
      "JERRY: Come on. He's a very special person.\n",
      "GEORGE: He'll get a sandwich, Joe Mayo'll have a sandwich. Whatever.\n",
      "JERRY: All right, all right. I'll show you. In front of Kramer's window. In the middle of a coffee shop coffee shop.\n",
      "KRAMER: The window's wide enough for a mini.\n",
      "JERRY: It can fit a car?\n",
      "KRAMER: Or a jet ski.\n",
      "JERRY: With goggles?\n",
      "KRAMER: No no it's daylight.\n",
      "JERRY: Oh come on George. Don't break the window with goggles.\n",
      "GEORGE: Hey Joe. I didn't take these glasses. They don't clear very well.\n",
      "KRAMER: Jerry!\n",
      "JERRY: Hey Joe. In front of Joe Mayo's building. Joe and Ethan are getting married\n",
      "JERRY: Well I'm moving out.\n",
      "GEORGE: This is a great move Ethan.\n",
      "JERRY: See, here's the thing. I'm going to meet Ethan, here we come.\n",
      "GEORGE: Why? Where we going?\n",
      "JERRY: See, that's the point. I'm going to see how this guy handles the prostitutes he does business with.\n",
      "GEORGE: And why?\n",
      "JERRY: I don't know. Even if he does, he's probably not a very good pickpocket.\n",
      "GEORGE: Doesn't work?\n",
      "JERRY: Ehe, let me ask you, was it the clothing you preferred?\n",
      "GEORGE: (smiling) I suppose it could have been changed. But again, it might be.\n",
      "JERRY: You don't like the fact, we don't, it's up to you.\n",
      "GEORGE: I can't decide. But I do agree with you, that Ethan should never have to do with the clothing.\n",
      "JERRY: I know. I didn't even know there was a need for it.\n",
      "GEORGE: (to executive producer Jerry and George) Can I get you anything else?\n",
      "JERRY: Oh no, I'm sorry. I'm just curious.\n",
      "GEORGE: Oh, come on. Just maybe have a look at this. There's a guy wearing what looks like a cowboy hat in the lobby.\n",
      "JERRY: Oh really? Well I think you should check with the restaurant before you go.\n",
      "GEORGE: Ah, no, no, that's not necessary. I know the manager might not approve.\n",
      "JERRY: (pause) OK, fine. Just don't go up there.\n",
      "GEORGE: (laughs) I mean\n",
      "\n",
      "[1550 | 1324.51] loss=1.19 avg=1.87\n",
      "[1600 | 1365.72] loss=1.15 avg=1.84\n",
      "[1650 | 1406.87] loss=1.21 avg=1.82\n",
      "[1700 | 1448.09] loss=0.70 avg=1.78\n",
      "[1750 | 1489.38] loss=1.30 avg=1.76\n",
      "[1800 | 1530.86] loss=0.98 avg=1.74\n",
      "[1850 | 1572.22] loss=1.35 avg=1.72\n",
      "[1900 | 1613.48] loss=0.74 avg=1.69\n",
      "[1950 | 1654.71] loss=0.95 avg=1.67\n",
      "[2000 | 1696.09] loss=0.83 avg=1.65\n",
      "Saving checkpoint/run1/model-2000\n"
     ]
    }
   ],
   "source": [
    "sess = gpt2.start_tf_sess()\n",
    "\n",
    "gpt2.finetune(sess,\n",
    "              dataset=file_name,\n",
    "              model_name='124M',\n",
    "              steps=2000,\n",
    "              restore_from='fresh',\n",
    "              run_name='run1',\n",
    "              overwrite=True,\n",
    "              print_every=50,\n",
    "              sample_every=500,\n",
    "              save_every=500)"
   ]
  },
  {
   "cell_type": "code",
   "execution_count": 32,
   "metadata": {
    "id": "VHdTL8NDbAh3"
   },
   "outputs": [],
   "source": [
    "gpt2.copy_checkpoint_to_gdrive(run_name='run1')"
   ]
  },
  {
   "cell_type": "code",
   "execution_count": 31,
   "metadata": {
    "id": "DCcx5u7sbPTD"
   },
   "outputs": [],
   "source": [
    "gpt2.copy_checkpoint_from_gdrive(run_name='run1')"
   ]
  },
  {
   "cell_type": "code",
   "execution_count": 7,
   "metadata": {
    "colab": {
     "base_uri": "https://localhost:8080/"
    },
    "id": "8H4Tgumqk7U1",
    "outputId": "70e9cf28-65b9-4d67-d73f-ac03a66112fa"
   },
   "outputs": [
    {
     "name": "stdout",
     "output_type": "stream",
     "text": [
      "Loading checkpoint checkpoint/run1/model-2000\n",
      "INFO:tensorflow:Restoring parameters from checkpoint/run1/model-2000\n"
     ]
    }
   ],
   "source": [
    "sess = gpt2.start_tf_sess()\n",
    "gpt2.load_gpt2(sess, run_name='run1')"
   ]
  },
  {
   "cell_type": "code",
   "execution_count": 8,
   "metadata": {
    "colab": {
     "base_uri": "https://localhost:8080/"
    },
    "id": "4RNY6RBI9LmL",
    "outputId": "1c8d1faf-b587-44ee-cbfb-1de5413db5c4"
   },
   "outputs": [
    {
     "name": "stdout",
     "output_type": "stream",
     "text": [
      "BETTE: (Standing up) Well, I have the look of a successful restaurateur, restaurateur, it's unbelievable!\n",
      "JERRY: What look?\n",
      "ELAINE: I mean, look at this. He's got a successful restaurant, a successful business... (The phone rings. Jerry answers.)\n",
      "JERRY: Yeah?\n",
      "ELAINE: ...ahhh... haaaaaaaaaaaa... (hangs up) This is Elaine Benes, you got the looks!\n",
      "JERRY: Yeah, right!\n",
      "ELAINE: Well, I mean, look, I have no clothes, (hands the phone to Jerry) I'm going shopping for a new pair of pants.\n",
      "JERRY: A new pair of pants?\n",
      "ELAINE: Yeah, and this looks exactly like Elaine Benes.\n",
      "JERRY: So you don't know anything?\n",
      "ELAINE: No, I don't.\n",
      "JERRY: Like what?\n",
      "ELAINE: Like I'm a mammal.\n",
      "JERRY: I don't know...\n",
      "ELAINE: What? What are you talking about?\n",
      "JERRY: I don't know...\n",
      "ELAINE: What about? Jerry; Listen, Elaine, I appreciate it that you're here, but I just wanted to ask you something, like if this relationship is bad, horrible, what is the difference, what's the difference, what am I supposed to do?\n",
      "JERRY: You mean, you mean just letting it go, go away?\n",
      "ELAINE: (Showing Jerry the way she is with a dry hemswoman) You know, I think I'm in love.\n",
      "JERRY: You're the reason I'm moving to Florida, you're the reason my life will never be the same.\n",
      "ELAINE: (Explaining how to fix a dry hemswoman) You know, I've always believed in your abilities as a dry hemswoman. You could do everything with a dry hemswoman, just use a cleaner.\n",
      "JERRY: You're the reason I'm moving to Florida, you're the reason my life will never be the same.\n",
      "ELAINE: (Obviously mad) Oh, why? Why does everything always have to have a certain order? Doesn't this business of course take days to happen?\n",
      "JERRY: Why does everything always have to have a certain order?\n",
      "ELAINE: Because order is stupid! It doesn't have to have a certain order number. Just put it in the order book.\n",
      "JERRY: The stupid order number.\n",
      "ELAINE: The stupid order number doesn't even have to be the last one!\n",
      "JERRY: You know, I don't even know what the dry hemswoman is.\n",
      "ELAINE: (Handing Jerry a piece of paper) Here it is.\n",
      "JERRY: The stupid order number.\n",
      "ELAINE: Oh! So, you don't know what the stupid and wonderful order number is?\n",
      "JERRY: Oh, well, not yet.\n",
      "ELAINE: Listen, can you give me a message? Can I talk to you later?\n",
      "JERRY: No, I need to do that in the booth.\n",
      "ELAINE: (Reading Jerry's expression) Don't be afraid of failure. I know when I fail, I fail harder than you. (Kramer enters)\n",
      "KRAMER: Well, you're going to have to do this, right?\n",
      "ELAINE: Kramer, I'm sorry for wasting your time.\n",
      "KRAMER: No, I'm not.\n",
      "ELAINE: No, you're not.\n",
      "KRAMER: No, I'm sorry. I can't do this any more. (To George) How about this?\n",
      "GEORGE: How about this? I'm getting a haircut.\n",
      "KRAMER: You're not going?\n",
      "GEORGE: Kramer, what the hell?\n",
      "ELAINE: No, I--\n",
      "KRAMER: No. You think you can get me over there? No way. I-I can get you there.\n",
      "GEORGE: All right. It's just a minute.\n",
      "ELAINE: Can you get me over there?\n",
      "GEORGE: No, it's not the first time.\n",
      "ELAINE: What?\n",
      "GEORGE: I'm getting a little tender this time.\n",
      "ELAINE: Even so, you still have the option of a short haircut.\n",
      "GEORGE: I can do a short haircut.\n",
      "ELAINE: A short haircut? Do you want short haircuts?\n",
      "GEORGE: I did a short haircut in the summertime. I think I've had it.\n",
      "ELAINE: You have a short haircut in the springtime.\n",
      "GEORGE: Okay, you're kidding.\n"
     ]
    }
   ],
   "source": [
    "gpt2.generate(sess, run_name='run1')"
   ]
  },
  {
   "cell_type": "markdown",
   "metadata": {
    "id": "oF4-PqF0Fl7R"
   },
   "source": [
    "If you're creating an API based on your model and need to pass the generated text elsewhere, you can do `text = gpt2.generate(sess, return_as_list=True)[0]`\n",
    "\n",
    "You can also pass in a `prefix` to the generate function to force the text to start with a given character sequence and generate text from there (good if you add an indicator when the text starts).\n",
    "\n",
    "You can also generate multiple texts at a time by specifing `nsamples`. Unique to GPT-2, you can pass a `batch_size` to generate multiple samples in parallel, giving a massive speedup (in Colaboratory, set a maximum of 20 for `batch_size`).\n",
    "\n",
    "Other optional-but-helpful parameters for `gpt2.generate` and friends:\n",
    "\n",
    "*  **`length`**: Number of tokens to generate (default 1023, the maximum)\n",
    "* **`temperature`**: The higher the temperature, the crazier the text (default 0.7, recommended to keep between 0.7 and 1.0)\n",
    "* **`top_k`**: Limits the generated guesses to the top *k* guesses (default 0 which disables the behavior; if the generated output is super crazy, you may want to set `top_k=40`)\n",
    "* **`top_p`**: Nucleus sampling: limits the generated guesses to a cumulative probability. (gets good results on a dataset with `top_p=0.9`)\n",
    "* **`truncate`**: Truncates the input text until a given sequence, excluding that sequence (e.g. if `truncate='<|endoftext|>'`, the returned text will include everything before the first `<|endoftext|>`). It may be useful to combine this with a smaller `length` if the input texts are short.\n",
    "*  **`include_prefix`**: If using `truncate` and `include_prefix=False`, the specified `prefix` will not be included in the returned text."
   ]
  },
  {
   "cell_type": "code",
   "execution_count": 9,
   "metadata": {
    "colab": {
     "base_uri": "https://localhost:8080/"
    },
    "id": "8DKMc0fiej4N",
    "outputId": "2662f9d6-d935-4e43-be1d-5f7c6da505fc",
    "scrolled": true
   },
   "outputs": [
    {
     "name": "stdout",
     "output_type": "stream",
     "text": [
      "SOUP NAZI) Whatever. Peggy returns to her seat, still wearing her Uncle Leo's pained expression.\n",
      "PEGGY: Do you want me to eat your soup? Giggity, nasty son of a bitch. Jerry and Elaine are at the coffee shop.\n",
      "JERRY: So I didn't order any.\n",
      "ELAINE: Yeah, but I wanted the \"You can't eat this\" bumper sticker. Peggy walks out, her Uncle Leo has gone into reverse work, and Jerry is still wearing his Chinese sippy cup.\n",
      "JERRY: Hey, I know I'm not the only one unhappy with your eating style. Jerry has gained the upper hand in the shop, with a few customers even yelling at his overbearing behavior.\n",
      "JERRY: I don't like eating your Uncle Leo's pouty face.\n",
      "ELAINE: You think you're so original, with your looks, mind you, that nobody takes your Uncle's advice and acting? Jerry and Elaine are still at the mug. Leo opens it.\n",
      "UNCLE LEO: What is this, a lollipop?\n",
      "ELAINE: Let's make a tea cup.\n",
      "JERRY: Ah.\n",
      "UNCLE LEO: Hey. Peggy picks up the mug and signals Jerry that he has to get in there.\n",
      "JERRY: Hey. Leo's in trouble. He's all over the map.\n",
      "UNCLE LEO: Help Peggy open up this cup.\n",
      "JERRY: All right. Elaine and Peterman are at Jerry's apartment.\n",
      "PETERMAN: Hey, Elaine.\n",
      "ELAINE: Hi.\n",
      "PETERMAN: Hey. (to other couch) Hey.\n",
      "ELAINE: Yeah. How did you sleep last night?\n",
      "PETERMAN: Elaine, I had a really bad dream.\n",
      "ELAINE: Oh.\n",
      "PETERMAN: I can't sleep without you. I stay\n",
      "====================\n",
      "SOUP NAZI?\n",
      "FRANK: Yes. Agent Wilhelm was right. We're in the business.\n",
      "ESTELLE: I'm nothing, Georgie.\n",
      "FRANK: I'm my mother.\n",
      "GEORGE: So is Sarge there?\n",
      "FRANK: I don't know.\n",
      "GEORGE: When did you get that shirt?\n",
      "ESTELLE: In the coffee shop.\n",
      "FRANK: What do you mean, coffee shop? We didn't have a good time. Let's see, do you talk about Sarge in a coffee shop?\n",
      "ESTELLE: I talk about Sarge.\n",
      "FRANK: Coffee shop, where does she go?\n",
      "ESTELLE: Oh, you gov't know, have people come in.\n",
      "GEORGE: I haven't had a chance to gov't, so ah, let's see, uh... people gather around a table where Sarge sits. George is on the coffee table, behind George in the background.\n",
      "ESTELLE: (to Joe) People, these are the seat, the coffee shop's coffee shop. Joe takes the seat.\n",
      "GEORGE: People, do you speak to them?\n",
      "ESTELLE: Uh, often, I feel as if I'm dictating their lives.\n",
      "GEORGE: (mumble) I'm a coffee shop owner, that's what I'm saying.\n",
      "FRANK: Georgie, I don't know what I'm talking about. I mean, I know what you're saying, but I'm just not hearing it. Frank wanders over to the table.\n",
      "FRANK: Maybe we can get another cup of coffee. George looks pleasantly surprised by Frank's interest. George mouths off, as if embarrassed. The group is made up of Estelle, Georgie, and Kramer.\n",
      "ESTELLE: So, Joe wants you to come down to New York, if Joe wants you to come down to his house.\n",
      "====================\n",
      "SOUP NAZI: You're allover. You can't eat any more of my soups. You better take your medicine or I'll throw you out!\n",
      "GEORGE: Did I do something? Did I d---?\n",
      "SID: What? (To George) You really think I like these really good Pakistani mixtures?\n",
      "GEORGE: No. I know a great Pakistani mixtures but nothing compares to Singha's.\n",
      "SID: All right, let's go. I'm goin' to the movies. Serenity now. Serenity now. Oh. oh. Elaine is in the kitchen, talking with a guy who happened to be working behind the counter.\n",
      "MAN: Getting a new desk. Hey Seinfeld, I gave you a new desk. It's no good.\n",
      "ELAINE: Shut up. (to the guy) How you doin'.\n",
      "MAN: You look like you need a haircut. You're a long hair guy. Are you? You're just wasting your hard-earned cash.\n",
      "ELAINE: Well, all you got is one little pot of coffee. (to Sid) Would you buy some coffee?\n",
      "MAN: No.\n",
      "ELAINE: No. I don't have any coffee.\n",
      "MAN: Come on. Come on.\n",
      "ELAINE: Sid, I need some money. I have no cash.\n",
      "MAN: Not that I'm doing any of this.\n",
      "ELAINE: What?\n",
      "MAN: For the movies.\n",
      "ELAINE: No. (walking over to Jerry's table and knocking on Kramer's door) What movie?\n",
      "JERRY: I dunno. Feudalism? The Pomeranian West.\n",
      "ELAINE: Jerry, I've been cropping opium for 20 years. There's no room for it.\n",
      "KRAMER: Hey, I saw a bodega last night. What kind is it? (ch\n",
      "====================\n",
      "SOUP NAZI ) . Would you not eat the Kava?!( SOUP NAZI ) Would you not eat the Kava?!\n",
      "ELAINE: I'm not eating the Kava!\n",
      "FATHER: It's just that my father doesn't call himself a Kava.\n",
      "ELAINE: Oh, you're right...for all I know he means \"Italian\".\n",
      "FATHER: Anyway ,my mother still hasn't told me who she got the money for.\n",
      "ELAINE: Oh, that's ok.\n",
      "FATHER: C'mon Flora ,I have something for you. It's a cute little hat.\n",
      "ELAINE: ( INTERPRETATION ) I remember . I'll see you tomorrow, right?\n",
      "FATHER: Yes Flora ,I really don't see why you should have any choice but to give a gift to your death.\n",
      "ELAINE: You see, I have this iridescent ring on my finger that is actually a pendant which is why I'm here.\n",
      "FATHER: You see , the ring is for your welcome , it's a tricolor flag. I carry it everyday because I don't know if I can get my whole family out there at the exact same moment so as a couple I get one ticket for my birthday and tomorrow I send out my Christmas card with \"Coffee Man \" and \"Beaches\" written on it says \"Please keep the hat in the hat so my relatives don't go to that meeting\" and \"I hope you don't wake me up and think about your business\" and \"Happy New Year\". (to her sponsor) \"Oh, New Year\"!\n",
      "FATHER: Say it's New Year!\n",
      "ELAINE: You know, I don't wear the Kava hat.\n",
      "FATHER: That's why it's such a big deal what Elaine does to her sponsor right now because he thinks that maybe he can make some money from\n",
      "====================\n",
      "SOUP NAZI: You know that guy?\n",
      "ELAINE: Yeah, that's him.\n",
      "JERRY: How'd you hit the jackpot?\n",
      "ELAINE: Well, I made a little money off of some people, you know.\n",
      "JERRY: No, no. Elaine, you ever watch what you eat, you should see how it all turned out.\n",
      "ELAINE: Yeah, well, the jackpot I got was just some jackpot.\n",
      "JERRY: Wow, so that guy was your boyfriend for life. You're basically a computer whiz, you know what I mean?\n",
      "ELAINE: Yeah, y'know, you've always been pretty obsessed with those kind of things, it's pretty obvious.\n",
      "JERRY: Ah, you're not a boyfriend, you're a character.\n",
      "ELAINE: Oh, I'm not a character, I was just a regular guy.\n",
      "JERRY: Really? How so?\n",
      "ELAINE: Pretty obtrusive.\n",
      "JERRY: Come on, Elaine, let me tell you a little secret about celebrities: they don't always have jobs.\n",
      "ELAINE: What, are you crazy? What else did you tell this guy?\n",
      "JERRY: He got fired because he didn't deliver on his promise.\n",
      "ELAINE: What? Why? Did he over promise to deliver? No, he didn't deliver.\n",
      "JERRY: He got fired because he didn't deliver?\n",
      "ELAINE: Yeah.\n",
      "JERRY: I warned him.\n",
      "ELAINE: What? Why didn't you tell me?\n",
      "JERRY: 'Cause you know what he did: he went on a shooting streak.\n",
      "ELAINE: What?\n",
      "JERRY: That's what's so amazing. He's a completely different person.\n",
      "ELAINE: Huh?\n",
      "JERRY\n",
      "====================\n",
      "SOUP NAZI) I'll have the soup.\n",
      "JERRY: Come on over. Let's go. Outside, men and women stand around the table. Some are dressed in Mets capes - complete with hat and mask covering the sides of the pot.\n",
      "PAULA: Why don't you get some Gatorade?\n",
      "GEORGE: I'd rather not discuss it.\n",
      "PETERMAN: Honey, I have to go back to the doctor. I think I can get a full stomach removed. I'm sorry.\n",
      "JERRY: Ah, that's alright. Elaine hasn't eaten in three days.\n",
      "KRAMER: And then there were the thefts. You know, they don't necessarily mean anything to me. Someone stole from Chemical Fab. Ehat's that.\n",
      "ELAINE: Chemical?! Chemical?!\n",
      "ELAINE: No, but then there were the robberies. You know Chemical robberies?\n",
      "JERRY: Ya' think so? Six hundred dollars. Seems like a pretty good price to me. Six hundred dollars seems like a lot of money to you.\n",
      "PETERMAN: Elaine, Elaine...\n",
      "ELAINE: What?\n",
      "KRAMER: Hey! I don't steal anymore!\n",
      "ELAINE: What? What?\n",
      "KRAMER: It's a long story. But one I have to tell you.\n",
      "ELAINE: Well, Mr Peterman... Star Trek Into Darkness is out on December 7th on VCR.\n",
      "PETERMAN: Okay, let's double check. What do you got?\n",
      "ELAINE: Well, I did, I double-checked it. Look, double-checks... Elaine double-checks.\n",
      "ELAINE: Double-checks, real good... Elaine checks.\n",
      "PETERMAN: Double-checks...\n",
      "KRAMER: Double-checks... Jerry does not look impressed.\n",
      "JERRY: So, what are you doing?\n",
      "====================\n",
      "SOUP NAZI? The Soup Nazi doesn't like the soup. Why, what, did he make a mistake? The Soup Nazi is in the store. Get the Raquel Welch statue. (turns back to the Soup Nazi) Hey, you got a problem with soup?\n",
      "GEORGE: No.\n",
      "JERRY: So, uh, where are we going? We're going to the Soup Nazi's where Susan and George will be eating.\n",
      "SOUP NAZI: Will you stop off, I'll pick you up.\n",
      "JERRY: Thanks. (The Soup Nazi walks away. George and Jerry look at each other. Jerry raises his eyes to heaven)\n",
      "GEORGE: (In awe) This is heaven. He's really been sitting on a large, fat mountain! (Jerry quickly picks up a half-pound of meat, and puts it in his mouth) He's close to a half-mile! Who tastes meat? It's totally subjective!\n",
      "JERRY: (Gruff) Well, I'm gonna surprise Susan and George here first. (He leaves) (Scene ends) Jerry's room, or \"wet\" room) (Jerry's sitting on the sofa, under the cushion)\n",
      "JERRY: I don't think so.\n",
      "ELAINE: What? Why not?\n",
      "JERRY: Well, I don't feel right about this bed.\n",
      "ELAINE: Are you kidding? I actually think it's better.\n",
      "JERRY: Well, you wouldn't think.\n",
      "ELAINE: Would you?\n",
      "JERRY: What about me, if you were sleeping over?\n",
      "ELAINE: Who puts their napkins behind their ear?\n",
      "JERRY: Ah, well it was Frank who recommended it.\n",
      "ELAINE: Frank.\n",
      "JERRY: Ah, he was a dear.\n",
      "ELAINE: Oh, he was a dear friend of mine. (\n",
      "====================\n",
      "SOUP NAZI: Oh ya I'll order some soup from the butcher?\n",
      "KRAMER: What butcher?!\n",
      "JERRY: Look Kramer you don't understand. I got the wrong guy. He's butchering your daughter.\n",
      "KRAMER: Oh, Butcher! (pointed) You know what? You wanna make soup from my daughter.\n",
      "JERRY: Yes ma'am.\n",
      "KRAMER: Oh, I'll tell you what. I'll give you a muffin and a bean sprout.\n",
      "JERRY: Yap what?\n",
      "KRAMER: Ah, you make all the soup.\n",
      "JERRY: You wanna make soup?\n",
      "KRAMER: All right, then you get the butcher and he takes it and sells it to you for 19.\n",
      "JERRY: What butcher?\n",
      "KRAMER: Yeah, well I'm his.\n",
      "JERRY: You know what? He gets arrested.\n",
      "KRAMER: Yeah, and then you run out and get some food.\n",
      "JERRY: He wouldn't know.\n",
      "KRAMER: Hey, that's a big idea. I get egg salad for 19.\n",
      "JERRY: Used to get salad for 19.\n",
      "KRAMER: Hey, hey, hey. What's 19 again?\n",
      "JERRY: It's a new low.\n",
      "KRAMER: What, you got a problem with soup?\n",
      "JERRY: No. I mean did you get tuna for 19 or was it just for 3? I don't really know the exact number, but I think it was 19.\n",
      "JERRY: Oh, what do you mean you don't like soup?\n",
      "KRAMER: What, what about 19?\n",
      "JERRY: What does it mean?\n",
      "KRAMER: What, I mean you're a big guy and you like big men and big men like big soup.\n",
      "J\n",
      "====================\n",
      "SOUP NAZI: Yes, I'm familiar with the terms and understandings of our time. But I fear the concomitant effects of our arrogant, class-based, social, and economic systems. We are living in the Age of the Total, the Age of the Shadow, the Age Of The Total, the Age Of The Total is upon us. Amen. (Restaurant) Jerry and Kramer enter a Chinese restaurant. Kramer is trying to get a coin out of his bag - unsuccessful.\n",
      "KRAMER: C'mon, try the yam.\n",
      "JERRY: Well, you've gotta try this new thing called 'Chinese coin'.\n",
      "KRAMER: Oh, yeah, yeah. It's a machine. It swaps two ounces for a thousand, and you get a pound.\n",
      "JERRY: Kramer, you know what I'm talking about. I saw Fulton and Macaulay Culkin walking down the street in a Chinese restaurant.\n",
      "KRAMER: So there they are, one vendor and one stop. And that means there's gotta be at least two restaurants a day, and they have to have a separate entrance and exit.\n",
      "JERRY: C'mon, you wanna blow?\n",
      "KRAMER: Why don't you take a steam?\n",
      "JERRY: No, I'm just thinking. The steam's a three hundred proof, steam. Cab ride I got on the bus. Jerry goes to the elevators. As he comes to, he's slowed by the steam. He hears a rustle.\n",
      "JERRY: Hey, cab.\n",
      "GEORGE: Hey.\n",
      "JERRY: You got any coffee?\n",
      "GEORGE: Coffee?\n",
      "JERRY: Yeah, let me think. Maybe I need to get goin.'\n",
      "GEORGE: You're talkin' Joe Mayo a little too fast here, Jerry.\n",
      "JERRY: What? You got a big deal.\n",
      "GE\n",
      "====================\n",
      "SOUP NAZI: I'm sure as hell not going. (throws knife around his neck again)\n",
      "JERRY: Why can't you use a knife?\n",
      "KRAMER: Why can't you use any kind of a noodle. You'll start a riot. Kramer violently bangs his chest on the table.\n",
      "KRAMER: Hey! You're killing him!\n",
      "KRAMER: Jerry!\n",
      "JERRY: I don't know what I'm going to do.\n",
      "KRAMER: Well, you know, I uh, I got this knife (pointed finger towards him) and I uh, I got this Paella, and I was just carrying it in there, I was stabbing people, and (to Kramer) I thought it was going to kill them. So I grabbed the handle and yanked it at them, and then as I came down (points), they yanked the knife back at me, yanked it at Jerry; pushed him forward (25, 86, see now in NYC today) and made very rough movements with it. So that's the one. So that's the knife.\n",
      "KRAMER: Yeah.\n",
      "JERRY: Yeah. Because that's the one you're going to need. You're going to need one which you've been having and you know you can't afford.\n",
      "KRAMER: Well, I'm going to get one.\n",
      "JERRY: Why not just get one?\n",
      "KRAMER: Because I know what I'm going to need. Kramer spots George.\n",
      "KRAMER: George! George stands and points abruptly at Jerry.\n",
      "GEORGE: No! Hold on! (throws knife at George)\n",
      "GEORGE: Shut up! (throws George back his chair again) Kramer looks surprised, with a sour expression. (New York Health & Racquet Club) Jerry and George come round the corner and sit in line behind the Chunnel.\n",
      "====================\n"
     ]
    }
   ],
   "source": [
    "gpt2.generate(sess,\n",
    "              length=400,\n",
    "              temperature=0.9,\n",
    "              prefix=\"SOUP NAZI\",\n",
    "              nsamples=10,\n",
    "              batch_size=5\n",
    "              )"
   ]
  },
  {
   "cell_type": "markdown",
   "metadata": {
    "id": "zjjEN2Tafhl2"
   },
   "source": [
    "For bulk generation, you can generate a large amount of text to a file and sort out the samples locally on your computer. The next cell will generate a generated text file with a unique timestamp.\n",
    "\n",
    "You can rerun the cells as many times as you want for even more generated texts!"
   ]
  },
  {
   "cell_type": "code",
   "execution_count": 29,
   "metadata": {
    "id": "Fa6p6arifSL0"
   },
   "outputs": [],
   "source": [
    "gen_file = 'gpt2_gentext_{:%Y%m%d_%H%M%S}.txt'.format(datetime.utcnow())\n",
    "\n",
    "gpt2.generate_to_file(sess,\n",
    "                      destination_path=gen_file,\n",
    "                      length=400,\n",
    "                      prefix=\"SUSAN\",\n",
    "                      temperature=1,\n",
    "                      nsamples=100,\n",
    "                      batch_size=20\n",
    "                      )"
   ]
  },
  {
   "cell_type": "code",
   "execution_count": 30,
   "metadata": {
    "colab": {
     "base_uri": "https://localhost:8080/",
     "height": 17
    },
    "id": "0-LRex8lfv1g",
    "outputId": "6e86411c-f243-47bf-8a9a-9a3146bf21ff"
   },
   "outputs": [
    {
     "data": {
      "application/javascript": [
       "\n",
       "    async function download(id, filename, size) {\n",
       "      if (!google.colab.kernel.accessAllowed) {\n",
       "        return;\n",
       "      }\n",
       "      const div = document.createElement('div');\n",
       "      const label = document.createElement('label');\n",
       "      label.textContent = `Downloading \"${filename}\": `;\n",
       "      div.appendChild(label);\n",
       "      const progress = document.createElement('progress');\n",
       "      progress.max = size;\n",
       "      div.appendChild(progress);\n",
       "      document.body.appendChild(div);\n",
       "\n",
       "      const buffers = [];\n",
       "      let downloaded = 0;\n",
       "\n",
       "      const channel = await google.colab.kernel.comms.open(id);\n",
       "      // Send a message to notify the kernel that we're ready.\n",
       "      channel.send({})\n",
       "\n",
       "      for await (const message of channel.messages) {\n",
       "        // Send a message to notify the kernel that we're ready.\n",
       "        channel.send({})\n",
       "        if (message.buffers) {\n",
       "          for (const buffer of message.buffers) {\n",
       "            buffers.push(buffer);\n",
       "            downloaded += buffer.byteLength;\n",
       "            progress.value = downloaded;\n",
       "          }\n",
       "        }\n",
       "      }\n",
       "      const blob = new Blob(buffers, {type: 'application/binary'});\n",
       "      const a = document.createElement('a');\n",
       "      a.href = window.URL.createObjectURL(blob);\n",
       "      a.download = filename;\n",
       "      div.appendChild(a);\n",
       "      a.click();\n",
       "      div.remove();\n",
       "    }\n",
       "  "
      ],
      "text/plain": [
       "<IPython.core.display.Javascript object>"
      ]
     },
     "metadata": {
      "tags": []
     },
     "output_type": "display_data"
    },
    {
     "data": {
      "application/javascript": [
       "download(\"download_5aad6a18-e7b0-4824-86af-8799ccd1e8a4\", \"gpt2_gentext_20201203_212522.txt\", 132661)"
      ],
      "text/plain": [
       "<IPython.core.display.Javascript object>"
      ]
     },
     "metadata": {
      "tags": []
     },
     "output_type": "display_data"
    }
   ],
   "source": [
    "# may have to run twice to get file to download\n",
    "files.download(gen_file)"
   ]
  },
  {
   "cell_type": "markdown",
   "metadata": {
    "id": "ig-KVgkCDCKD"
   },
   "source": [
    "# Etcetera\n",
    "\n",
    "If the notebook has errors (e.g. GPU Sync Fail), force-kill the Colaboratory virtual machine and restart it with the command below:"
   ]
  },
  {
   "cell_type": "code",
   "execution_count": null,
   "metadata": {
    "id": "rIHiVP53FnsX"
   },
   "outputs": [],
   "source": [
    "!kill -9 -1"
   ]
  },
  {
   "cell_type": "markdown",
   "metadata": {
    "id": "wmTXWNUygS5E"
   },
   "source": [
    "# LICENSE\n",
    "\n",
    "MIT License\n",
    "\n",
    "Copyright (c) 2019 Max Woolf\n",
    "\n",
    "Permission is hereby granted, free of charge, to any person obtaining a copy\n",
    "of this software and associated documentation files (the \"Software\"), to deal\n",
    "in the Software without restriction, including without limitation the rights\n",
    "to use, copy, modify, merge, publish, distribute, sublicense, and/or sell\n",
    "copies of the Software, and to permit persons to whom the Software is\n",
    "furnished to do so, subject to the following conditions:\n",
    "\n",
    "The above copyright notice and this permission notice shall be included in all\n",
    "copies or substantial portions of the Software.\n",
    "\n",
    "THE SOFTWARE IS PROVIDED \"AS IS\", WITHOUT WARRANTY OF ANY KIND, EXPRESS OR\n",
    "IMPLIED, INCLUDING BUT NOT LIMITED TO THE WARRANTIES OF MERCHANTABILITY,\n",
    "FITNESS FOR A PARTICULAR PURPOSE AND NONINFRINGEMENT. IN NO EVENT SHALL THE\n",
    "AUTHORS OR COPYRIGHT HOLDERS BE LIABLE FOR ANY CLAIM, DAMAGES OR OTHER\n",
    "LIABILITY, WHETHER IN AN ACTION OF CONTRACT, TORT OR OTHERWISE, ARISING FROM,\n",
    "OUT OF OR IN CONNECTION WITH THE SOFTWARE OR THE USE OR OTHER DEALINGS IN THE\n",
    "SOFTWARE."
   ]
  }
 ],
 "metadata": {
  "accelerator": "GPU",
  "colab": {
   "collapsed_sections": [],
   "name": "Copy of Train a GPT-2 Text-Generating Model w/ GPU",
   "provenance": []
  },
  "environment": {
   "name": "tf2-2-3-gpu.2-3.m59",
   "type": "gcloud",
   "uri": "gcr.io/deeplearning-platform-release/tf2-2-3-gpu.2-3:m59"
  },
  "kernelspec": {
   "display_name": "Python 3",
   "language": "python",
   "name": "python3"
  },
  "language_info": {
   "codemirror_mode": {
    "name": "ipython",
    "version": 3
   },
   "file_extension": ".py",
   "mimetype": "text/x-python",
   "name": "python",
   "nbconvert_exporter": "python",
   "pygments_lexer": "ipython3",
   "version": "3.7.8"
  }
 },
 "nbformat": 4,
 "nbformat_minor": 4
}
