{
 "cells": [
  {
   "cell_type": "markdown",
   "metadata": {},
   "source": [
    "# ![](https://ga-dash.s3.amazonaws.com/production/assets/logo-9f88ae6c9c3871690e33280fcf557f33.png) Seinfeld Script Generator\n",
    "\n",
    "Notebook 3: Preprocessing & Modeling - Character Level"
   ]
  },
  {
   "cell_type": "markdown",
   "metadata": {},
   "source": [
    "I am a strong believer in that one size doesn't fit for all. There are so many different types of brands out there with various needs, set-ups and available resources, they should not be limited to only one option. And therefore I decided to explore different models which can address their needs at different levels. \n",
    "\n",
    "Upon reading articles and papers from work done by previous data scientists, I decided start with recurrent neural network model which was proven to be unreasonably effective in NLP tasks such as text generation, language translation and speech recognition. RNN is powerful because it creates this loop of updating the weights and states so that the model can have memories. However RNN suffers from gradient vanishing and long-term dependency problems. The Long-Short-Term-Memory(LSTM) architecture, which is a speciall type of RNN, takes a step further to address these issues and therefore achieves remarkable results. As I wanted to generate meaningful dialogue between characters, I expected my model to take the context into consideration, which means long-term dependency would be involved. That was why I decided to build my first script generator model using LSTMs.\n",
    "\n",
    "For text generation models using LSTMs, one of the very famous project was done by AI researcher Andrej Karpathy. In his blog [_The Unreasonable Effectiveness of Recurrent Neural Networks_](http://karpathy.github.io/2015/05/21/rnn-effectiveness/), he built a character-based RNN-LSTM model to generate text and achieved impressive results. The data size used in his blog ranged from 1MB to 474MB text files and the running time ranged from minutes to days. My data size is 4.2MB with 3.39 million characters, which is comparable to Karpahty's Shakespeare example. It's a moderate amount of data for character level RNN-LSTM, so I decided to test out.\n",
    "\n",
    "This notebook was trained on Kaggle's GPU notebook and was heavily inspired by the codes shared by [Patrick DeKelly](https://www.kaggle.com/valkling/pythonicpythonscript4making-seinfeld-scripts) on Kaggle. I started off using AI Notebook but the limited RAM crashes immediately after I started training the model. Kaggle by contrast is a lot more stable in this case. However not perfect either -- as I first tried to use the entire data to train in the model, it takes 30min to train an epoch and I'm training 30, so after 9 hours when I was at epoch 18, Kaggle called stop and refused to run my model anymore. It was under this condition that I decide to use what Patrick did -- to just train partial of the text."
   ]
  },
  {
   "cell_type": "code",
   "execution_count": 3,
   "metadata": {},
   "outputs": [],
   "source": [
    "import pandas as pd\n",
    "import numpy as np\n",
    "import random\n",
    "\n",
    "from keras.preprocessing import sequence\n",
    "from keras.utils import np_utils\n",
    "from keras.models import Sequential\n",
    "from keras.layers import Input, Embedding, LSTM, Dropout, Dense, Activation\n",
    "from keras.optimizers import Adam\n",
    "from keras.layers import LSTM\n",
    "from keras.callbacks import EarlyStopping, ModelCheckpoint, Callback\n",
    "\n",
    "import os"
   ]
  },
  {
   "cell_type": "code",
   "execution_count": 14,
   "metadata": {},
   "outputs": [],
   "source": [
    "path = \"../data/for_train.txt\"\n",
    "\n",
    "# lower case the text for easy tokenizing\n",
    "text = open(path, 'r').read().lower()"
   ]
  },
  {
   "cell_type": "markdown",
   "metadata": {
    "_uuid": "7b6bbcdeeefd738beaaf288fc37f1839d61ebc12"
   },
   "source": [
    "### Text Preprocessing"
   ]
  },
  {
   "cell_type": "markdown",
   "metadata": {},
   "source": [
    "The first step would be to tokenize all the characters. When we feed data into the model, we cannot feed them as it is, we would have to convert them into a lanugage that our model understands, in this case, a matrix (with numbers). So we are mapping digits to each character so that we can represent our data using entirly numbers."
   ]
  },
  {
   "cell_type": "code",
   "execution_count": 15,
   "metadata": {},
   "outputs": [
    {
     "data": {
      "text/plain": [
       "3387170"
      ]
     },
     "execution_count": 15,
     "metadata": {},
     "output_type": "execute_result"
    }
   ],
   "source": [
    "len(text)"
   ]
  },
  {
   "cell_type": "code",
   "execution_count": 18,
   "metadata": {
    "_uuid": "e16a3a80940fb71572b065010771c5248c834e4b"
   },
   "outputs": [
    {
     "name": "stdout",
     "output_type": "stream",
     "text": [
      "['\\n', ' ', '!', '\"', '#', '$', '&', \"'\", '(', ')', '*', ',', '-', '.', '/', '0', '1', '2', '3', '4', '5', '6', '7', '8', '9', ':', ';', '=', '?', '\\\\', '`', 'a', 'b', 'c', 'd', 'e', 'f', 'g', 'h', 'i', 'j', 'k', 'l', 'm', 'n', 'o', 'p', 'q', 'r', 's', 't', 'u', 'v', 'w', 'x', 'y', 'z', '¿', 'é']\n",
      "Unique tokens: 59\n"
     ]
    }
   ],
   "source": [
    "# As mentioned, in consideration of training time and hardware limitation, I used the first 500,000 characters of my data to train the model\n",
    "\n",
    "text = text[:500000]\n",
    "\n",
    "char = list(set(text))\n",
    "char.sort() \n",
    "\n",
    "print(char)\n",
    "print(f'Unique tokens: {len(char)}')\n",
    "\n",
    "# np.save('../assets/char_based/charindex.npy', char)"
   ]
  },
  {
   "cell_type": "markdown",
   "metadata": {},
   "source": [
    "There are 59 unique tokens in my text."
   ]
  },
  {
   "cell_type": "markdown",
   "metadata": {},
   "source": [
    "### Define Sequence Length"
   ]
  },
  {
   "cell_type": "markdown",
   "metadata": {},
   "source": [
    "The logic behind my model would, given the model certain number of characters, and train it to be able to predict the character right after. Given the RNN/LSTM mechanism, I am allowed to set that number of my choice. Here are the considerations: if the number is too small, this means that my model would only be able to look at very small amount of characters, so it might not have enough information. However if the number is too large, for i.e. the text that my model learns extend from episode to episode, then there might be too much noise that prevent my model from effectively predicting the next character. Considering these, I decided to set the sequence length number to 100, which is a little longer than 13, the average words per line."
   ]
  },
  {
   "cell_type": "code",
   "execution_count": 19,
   "metadata": {
    "_uuid": "ff8898a2997216697ffdb6ab6b6a98e77355b431"
   },
   "outputs": [],
   "source": [
    "# this is the sequence length\n",
    "maxlen = 100\n",
    "\n",
    "# set up feature and label\n",
    "X_train = []\n",
    "y_train = []\n",
    "\n",
    "# turn the data into a list of sequences\n",
    "for i in range(0, len(text)-maxlen, 1): \n",
    "    X = text[i: i + maxlen]\n",
    "    y = text[i + maxlen]\n",
    "    \n",
    "    # map the token with the index value\n",
    "    X_train.append([char.index(x) for x in X])\n",
    "    y_train.append(char.index(y))\n",
    "\n",
    "# reshape the X_train to be ready to fit into the model\n",
    "X_train = np.reshape(X_train, (len(X_train), maxlen))\n",
    "# one hot encode the label\n",
    "y_train = np_utils.to_categorical(y_train)"
   ]
  },
  {
   "cell_type": "markdown",
   "metadata": {
    "_uuid": "d0847d548defb45832406ac64fa3873749fe2b5d"
   },
   "source": [
    "### Modeling\n",
    "\n",
    "Kaparchy used 3 LSTM layers to train the Shakespeare text and so did DeKelly. So I decided to do the same. I also added dropout layers for the model to avoid overfitting."
   ]
  },
  {
   "cell_type": "code",
   "execution_count": 24,
   "metadata": {
    "_uuid": "f6498ca0985caf5a773a5e881fb8f7043d62331d"
   },
   "outputs": [
    {
     "name": "stdout",
     "output_type": "stream",
     "text": [
      "WARNING:tensorflow:Layer lstm_6 will not use cuDNN kernel since it doesn't meet the cuDNN kernel criteria. It will use generic GPU kernel as fallback when running on GPU\n",
      "WARNING:tensorflow:Layer lstm_7 will not use cuDNN kernel since it doesn't meet the cuDNN kernel criteria. It will use generic GPU kernel as fallback when running on GPU\n",
      "Model: \"sequential_2\"\n",
      "_________________________________________________________________\n",
      "Layer (type)                 Output Shape              Param #   \n",
      "=================================================================\n",
      "embedding_2 (Embedding)      (None, 100, 100)          5900      \n",
      "_________________________________________________________________\n",
      "lstm_6 (LSTM)                (None, 100, 512)          1255424   \n",
      "_________________________________________________________________\n",
      "lstm_7 (LSTM)                (None, 100, 512)          2099200   \n",
      "_________________________________________________________________\n",
      "lstm_8 (LSTM)                (None, 512)               2099200   \n",
      "_________________________________________________________________\n",
      "dense_6 (Dense)              (None, 256)               131328    \n",
      "_________________________________________________________________\n",
      "dense_7 (Dense)              (None, 128)               32896     \n",
      "_________________________________________________________________\n",
      "dense_8 (Dense)              (None, 59)                7611      \n",
      "=================================================================\n",
      "Total params: 5,631,559\n",
      "Trainable params: 5,625,659\n",
      "Non-trainable params: 5,900\n",
      "_________________________________________________________________\n"
     ]
    }
   ],
   "source": [
    "def get_model():\n",
    "    \n",
    "    model = Sequential()\n",
    "    \n",
    "    # add Embedding layer\n",
    "    model.add(Input(shape=(maxlen)))\n",
    "    model.add(Embedding(len(char), maxlen, trainable=False))\n",
    "    \n",
    "    # add 3 stacks of LSTM layers\n",
    "    model.add(LSTM(512, dropout=0.1, recurrent_dropout=0.1, return_sequences=True))\n",
    "    model.add(LSTM(512, dropout=0.1, recurrent_dropout=0.1, return_sequences=True))\n",
    "    model.add(LSTM(512))\n",
    "    \n",
    "    # add 2 NN layers to add complexity of the model\n",
    "    model.add(Dense(256, activation=\"elu\"))\n",
    "    model.add(Dense(128, activation=\"elu\"))\n",
    "    \n",
    "    # add output layer\n",
    "    model.add(Dense(len(char), activation='softmax'))\n",
    "    \n",
    "    model.compile(loss='categorical_crossentropy',\n",
    "                  optimizer=Adam(lr=0.001),\n",
    "                  metrics=['accuracy'])\n",
    "\n",
    "    return model\n",
    "\n",
    "model = get_model()\n",
    "\n",
    "model.summary()"
   ]
  },
  {
   "cell_type": "code",
   "execution_count": 22,
   "metadata": {
    "_uuid": "b2db6df9efb78f0bc2b741a25aee7f6d769ac98c"
   },
   "outputs": [],
   "source": [
    "checkpoint = ModelCheckpoint('../assets/char_based/model_checkpoint.hdf5',\n",
    "                             monitor='loss',\n",
    "                             verbose=1,\n",
    "                             save_best_only=True,\n",
    "                             mode='min')\n",
    "\n",
    "# early stopping to detect when loss stops dropping \n",
    "early = EarlyStopping(monitor=\"loss\",\n",
    "                      mode=\"min\",\n",
    "                      patience=3)\n",
    "\n",
    "callbacks = [checkpoint, early]"
   ]
  },
  {
   "cell_type": "code",
   "execution_count": null,
   "metadata": {
    "_uuid": "d6b060047a220fb8afe164789d173dcd1bb3ad85"
   },
   "outputs": [],
   "source": [
    "model.fit(X_train, y_train,\n",
    "          batch_size=256,\n",
    "          epochs=30,\n",
    "          verbose=1,\n",
    "          callbacks = callbacks)"
   ]
  },
  {
   "cell_type": "markdown",
   "metadata": {},
   "source": [
    "It took me only 262s to train 1 epoch in this case. So in total my training time was a little over 2 hours. My final epoch returned a loss of 1.0687 and accuracy of 0.6589."
   ]
  },
  {
   "cell_type": "markdown",
   "metadata": {
    "_uuid": "0ab32b5eb8d64526812d2574506746f8cd434c88"
   },
   "source": [
    "### Script Generation"
   ]
  },
  {
   "cell_type": "markdown",
   "metadata": {},
   "source": [
    "To generate script, I built a function thats takes in number of letters one needs the model to generate. I didn't format any of the output as this is my first model, therefore I expected to see the generated text in all lowercase."
   ]
  },
  {
   "cell_type": "code",
   "execution_count": 23,
   "metadata": {
    "_uuid": "4dc106ead90a06c6c7b7e7fc6230fe22edc27682"
   },
   "outputs": [],
   "source": [
    "def generate_text(next_letters):\n",
    "    \n",
    "    # randomly select a starting point of the text to be generate\n",
    "    x = np.random.randint(0, len(X_train)-1)\n",
    "    pattern = X_train[x]\n",
    "    generated = []\n",
    "    for t in range(next_letters):\n",
    "        x = np.reshape(pattern, (1, len(pattern)))\n",
    "        pred = model.predict(x)\n",
    "        result = np.argmax(pred)\n",
    "        generated.append(result)\n",
    "        pattern = np.append(pattern,result)\n",
    "        pattern = pattern[1:len(pattern)]\n",
    "        \n",
    "    return generated"
   ]
  },
  {
   "cell_type": "code",
   "execution_count": null,
   "metadata": {},
   "outputs": [],
   "source": [
    "generated = generate_text(5000)\n",
    "\n",
    "generated = [char[x] for x in generated]\n",
    "generated = ''.join(generated)\n",
    "\n",
    "print(generated)"
   ]
  },
  {
   "cell_type": "markdown",
   "metadata": {},
   "source": [
    "### Save Model and Scripts"
   ]
  },
  {
   "cell_type": "code",
   "execution_count": null,
   "metadata": {
    "_uuid": "c4c9afe74339a6bb070d14bd484dd4d94effef2f"
   },
   "outputs": [],
   "source": [
    "model.save_weights('../assets/char_based/full_train_weights.hdf5')\n",
    "model.save('../assets/char_based/full_train_model.hdf5')"
   ]
  },
  {
   "cell_type": "code",
   "execution_count": null,
   "metadata": {
    "_uuid": "e7226b8031c3999c35f17fe26cbf6426970b84e4"
   },
   "outputs": [],
   "source": [
    "f = open('../texts/char_level.txt','w')\n",
    "f.write(generated)\n",
    "f.close()"
   ]
  },
  {
   "cell_type": "markdown",
   "metadata": {},
   "source": [
    "### Evaluation"
   ]
  },
  {
   "cell_type": "markdown",
   "metadata": {},
   "source": [
    "Note: I generated three different texts and manually concatnated them into the same ```char_level.txt``` file.\n",
    "\n",
    "Let's take a look the generated text. From the format perspective, except for the first line, which was randomly generated from my ```generate_text```function, all other lines follow the original data that used to train the model with ```character name``` who is speaking in the front, followed by ```: ```, then the line. It also knows to have space after punctuations like ```,```, ```.```, no space after ```(```, ```)```. And also learned to make a new line after certain punctuation such as ```.``` and ```?```. There are minior imperfections such as have special character combined with some words ```*\"hip*```, ```*weathes```, but in general I think it does well on learning the formatting. \n",
    "\n",
    "Grammar-wise overall it makes sense, there are typos her and there such as ```goldes```, ```anciers```, ```flie drava```, trouble to identify which of the singular/plural form to use i.e.```six hunter```. Tense confusion: ```i lived everything```. Not every sentence makes semantic sense but still it reads like English. \n",
    "\n",
    "One thing amazes me is that the model not only predict the four main characters to speak. Every once a while, there will be a character who in reality only showed couple times in the show. i.e. ```babu```, ```vanessa```.\n",
    "\n",
    "However despite these, the biggest problem here is still the singularity of outputs. In all of the three 5,000-letter texts, there are lots of repetition of \"i know\", \"i don't know\". It feels like the model is making the safest choice, by predicting the most frequent words spoken by the characters.\n",
    "\n",
    "I believe with more data and more training time, the model will definitely get better. So far for a 2h trained model with only 500,000 characters, I think it was an acceptable result. Upon building this model, I had the following takeaways:\n",
    "\n",
    "1. Instead of a character level RNN-LSTM model, how about using a word-based one to avoid typos?\n",
    "2. A batch generator might be able to solve the limitation of RAM issue on my google Cloud.\n",
    "3. How can I add diversity into the predictions?\n",
    "\n",
    "With those thoughts, I started building my second model, the word level RNN-LSTM model."
   ]
  },
  {
   "cell_type": "code",
   "execution_count": 26,
   "metadata": {},
   "outputs": [
    {
     "name": "stdout",
     "output_type": "stream",
     "text": [
      "picks up a paper)\n",
      "vanessa: jerry, this is great.\n",
      "jerry: i know, i know.\n",
      "jerry: well, if i call the airline, a quaker, and i have to get a gardener.\n",
      "george: you don't know if i should do it.\n",
      "jerry: well, if that's not it.\n",
      "elaine: what do you go from your stuff? that's a *weathes.\n",
      "jerry: it's only six hunter in the eyes.\n",
      "jerry: i know, i know.\n",
      "jerry: i know.\n",
      "george: i keep first.\n",
      "elaine: i know.\n",
      "jerry: i know, i know.\n",
      "jerry: i know.\n",
      "jerry: i know.\n",
      "george: i know.\n",
      "elaine: you know, i lived everything. i told you to let us sleep in there.\n",
      "jerry: what did you say then?\n",
      "jerry: i know.\n",
      "george: i keep forgetting that it's good. that's why we're having dinner with that night is touching.\n",
      "jerry: i know, i know.\n",
      "jerry: i know.\n",
      "george: i can't believe it.\n",
      "jerry: well, if that's not the test. that's all.\n",
      "jerry: well, i could do it. i go to the next guy. what do you go down there? (george pulls his seat) (jerry and elaine starts meats and goes to another on the steps off the room on the couch near george.\n",
      "jerry: i don't know.\n",
      "jerry: i know.\n",
      "george: i know.\n",
      "elaine: i know.\n",
      "jerry: i know, i know.\n",
      "jerry: i know.\n",
      "george: okay, go ahead, leave the ones.what am i supering?\n",
      "jerry: yeah, i wanna get in the mood.\n",
      "george: oh, i had no idea...\n",
      "jerry: you don't know what you-- (juling about his old jacket in awhile and make her rinse it in your head out, you wanna get the other end on your sat people in awhile and you don't have to conversation.\n",
      "jerry: i know, i know.\n",
      "jerry: i know, i know.\n",
      "jerry: i'm not going to a woman's anymore.\n",
      "jerry: i don't know.\n",
      "kramer: well, if you can't, but it's real.\n",
      "morty: where do you get the ego? no one's a bigger bill? how come you're not doin' the problems of orange drink, for me to a pair of gloves. i quit the driverse responsible from the goot responsible on my mask. he might keel over on the stairs.\n",
      "george: (to himself) oh no, not (comedy club.\n",
      "george: oh, i found him. that's why i don't actually recall considerible goldes. come along and drive bermen.\n",
      "jerry: (to george) did you call me right back.\n",
      "george: i can't believe it.\n",
      "george: you got any asprie?\n",
      "jerry: i don't know.\n",
      "jerry: i know.\n",
      "george: i know.\n",
      "elaine: i know.\n",
      "jerry: i know, i know.\n",
      "george: i keep fined. (the leave) (scene ends) (coffee shop)\n",
      "george: i don't know.\n",
      "jerry: i know, i know.\n",
      "jerry: i know.\n",
      "george: i know.\n",
      "elaine: i can't believe it.\n",
      "jerry: well, it's a *\"hip* to drive. you're not really happy to do it.\n",
      "jerry: i don't know.\n",
      "kramer: i better findta movies, i look up you gave me 505* in an orange dressed cleaners around the receiptt. he told me on the inmicate from one of his wife started eating an apple, before jerry can park up in their houses down there in the coffee shop just can't be goodbye to meet you.\n",
      "jerry: well, if i call the airline, a garden, he had a picture works.\n",
      "babu: teading the next to her.\n",
      "jerry: well, if you want.\n",
      "george: you don't know what you do?\n",
      "george: i don't know.\n",
      "jerry: i know, i know.\n",
      "george: i don't know.\n",
      "jerry: i know, i know.\n",
      "jerry: well, if you want.\n",
      "george: i can't believe it.\n",
      "george: i don't know.\n",
      "jerry: i know, i know.\n",
      "jerry: i know.\n",
      "george: i keep left two o'clock.\n",
      "george: (laughs) yeah, right.\n",
      "jerry: i don't know.\n",
      "kramer: i better take me this thing.\n",
      "jerry: i know, i know.\n",
      "jerry: i know, i know.\n",
      "george: i keep from the bedrad from. they lost my wheel nig.\n",
      "elaine: (coming out of the shower in ancier) the family gather's goes to show you, that'll be five, ten minutes.\n",
      "george: i know the tepain where i am about to give him the pen.\n",
      "helen: i'm undering.. you know, the water probably tolding me a micremor - do you really want me to get those first transplant? did they have to get an apple? they can just get out of the house at this club. ohh, man.\n",
      "audrey: i didn't know there was a question. i got a car overheating, i go to the bathroom.\n",
      "george: oh no you didn't.get out! (george comes out of the elevator, and wait for her before!\n",
      "kramer: i know it's a mystery.\n",
      "george: oh, i found him. he was sitting on the job shopping cart. bad year for a day about is the guy in singaple, they the dressed - they finally call you, and i always say that they had some meat out of my mouth.\n",
      "george: what if i got?\n",
      "jerry: i don't know.\n",
      "jerry: well, if you want.\n",
      "george: you don't know what's wrong.\n",
      "helen: i know that that is an opening the world of bribery, don't sleep press.\n",
      "joel: i hade to pick up ed at the entire time.\n",
      "george: oh, i found him. he was sitting on the couch on a red chinese prison.\n",
      "jerry: well, it's a little bit smaller now. you can't call china now easy that. (elaine returns from the bathroom)\n",
      "jerry: what is the guy?! the one who base in short.\n",
      "ray: i am not taking it.\n",
      "jerry: i don't know.\n",
      "kramer: well, if you could do is get in the car.\n",
      "george: i don't know.\n",
      "jerry: i know, i know.\n",
      "george: i keep fine. i'm gonna take it out of her face. it didn't move.\n",
      "george: you got isobutane my contention?\n",
      "babu: please, don't wear the car phone. i don't know what the insults. i hope you can take cheir box.\n",
      "george: \n",
      "\n",
      "==================================================\n",
      "\n",
      "ere kramer?\n",
      "kramer: oh, i hate the place! i can't believe it.\n",
      "jerry: well, it's a *\"riconic\"* relationship...''ve been waiting him to see him and i tow in an orange dress.there's the oral escape from the dryer;ers very tape and pulls out sortal and the assistant in the necks and sixth champortactive, before gym most elaine thlows one of the papers. that's the one where the should cost to put your sauce and you pick it up?\n",
      "jerry: i don't know.\n",
      "jerry: i know.\n",
      "george: i know.\n",
      "elaine: you know, i lived english memention.\n",
      "george: i don't know.\n",
      "jerry: i know, i know.\n",
      "jerry: i know.\n",
      "george: i know.\n",
      "jerry: i know, i know.\n",
      "jerry: well, i could do it. i get the camera. listen i know your shows. out of that look at it, i look up, i gotta get to the airport. i was slide it is cracked. you're really good people, there's n05ching with him. i mean i'm on the sight-fifth and tenth.\n",
      "george: oh, i can't do it. i'll eat anyway. believe me, it's ederrible. maybe a coincidence.\n",
      "rava: you're a cashier.\n",
      "marlene: maybe i can see people. i walked about it.\n",
      "jerry: i know, i know.\n",
      "jerry: i know.\n",
      "george: i know.\n",
      "george: i know that...you're entits, i gotta pay for this jacket. there's no rulne in the back and finding someone tongue out, i love her. i know it's not in an airphories. that's what i don't know if i really wanted to introduce some sort of a falling out. i'll tell you what to do, i think i saw him on lawudman. the fact is my friend. i don't know how to love.\n",
      "patrice: you know, i think i'm on the room that they don't care about is the wall because when you're staring at her before!\n",
      "jerry: i know, i know.\n",
      "jerry: i know.\n",
      "george: i know, i know.\n",
      "jerry: well, it's a *\"hip* to drive us around. that'la only make jerry on the back - he lived in on the phone. (scene ends) (coffee shop)\n",
      "george: i don't know.\n",
      "jerry: i know.\n",
      "george: i know.\n",
      "elaine: i know that i may be jerry. (they exchange greetings) jerry's the one who got me the bathroom?\n",
      "george: the doctor'lis carpeted.\n",
      "jerry: i know, i know.\n",
      "jerry: i know, i know.\n",
      "jerry: well, if you want.\n",
      "steve: i'm not going to a meeting perfect because of my condition. it dehydruce barks in the waiting room.\" there's no point in me getting involved at this job. i mean, it's like right there, you know, i finally meantly sound costenze, i like her. i could see her personality shouldn't be allowed money?\n",
      "elaine: i think i saw him on land a couple times. so how's the matter with this voice is taking over my life.\n",
      "jerry: i don't know.\n",
      "jerry: i know, i know.\n",
      "jerry: i know, i know.\n",
      "george: i know.\n",
      "elaine: you didn't mean what?\n",
      "elaine: i don't know.\n",
      "jerry: i know.\n",
      "george: i know.\n",
      "elaine: i know.\n",
      "george: i keep fine. i'm going to a nudist colony.\n",
      "jerry: i know, i know.\n",
      "jerry: i know, i know.\n",
      "jerry: i know.\n",
      "george: i know.\n",
      "elaine: i know.\n",
      "george: i keep friends you'd ask her on t.v. we'll eat it in the middle of the door, i don't even know what to say to get on the phone. i have no place idea be in there and i don't know what to do with that, but what about that big deal about being a matador? the one who got me the next day, jumping our clothes - but across for the rest of his life.\n",
      "kramer: oh, come on. i just got things down by a huge good for the number.\n",
      "jerry: i have a very picking up like i have to down the stairs. that's the one who got me people and say \" around, what if it's one of those hugs where the shoulders. bumped, jerry and george at the drugstore on the street, driverses not telling me down there in 2h, cut, to be hiil up on down) what's going on?\n",
      "elaine: i don't know.\n",
      "jerry: i know.\n",
      "george: i keep friends tomarrow.\n",
      "jerry: i don't know.\n",
      "jerry: i know, i know.\n",
      "jerry: i know, i know.\n",
      "george: i keep fine. i'm going to the bathroom. (leaves)\n",
      "george: i don't know.\n",
      "jerry: what is the most despicions?\n",
      "kramer: well, it's a little bit smaller now and i felt so uncomfo and actually told me about it, but i was just kiddin, around, and i'm going to a nudist colony next week to an it about that.\n",
      "jerry: i don't know.\n",
      "kramer: i better find the receipt.\n",
      "jerry: what is the guy?! not be a flie drava? i mean that. i am not getting on the plane, if they had a pony where you had a pictloke tonight on business.\n",
      "jerry: i know, i know.\n",
      "george: i keep fine. he didn't even even hear a peep out of me. i'm gonna go to the bathroom.\n",
      "kramer: oh, the relationship. (she pours coffee in his coffee shop)\n",
      "jerry: i don't know.\n",
      "jerry: i know, i know.\n",
      "jerry: i know.\n",
      "george: i know.\n",
      "elaine: i know.\n",
      "jerry: i know, i know.\n",
      "jerry: i know.\n",
      "george: i keep fined with the pecan.\n",
      "elaine: oh, i know.\n",
      "jerry: i know, i know.\n",
      "george: well, i can't get into a mental institution. i really thank you, thanks for dinner?\n",
      "george: you don't tell him?\n",
      "elaine: no.\n",
      "jerry: (to george) did you call me a wuss?\n",
      "ray: who's this phonene that can park phase their travess. the one is going in, but.. it's real. it's perfectly safe. i researched it. how could i be rotting in onang?\n",
      "george: i don't know.\n",
      "jerry: i know, i know.\n",
      "jerry: i know, i know.\n",
      "george: i\n",
      "\n",
      "=====================================================\n",
      ": you don't care?\n",
      "george: yes.\n",
      "elaine: you didn't want to tell you this, you can't go to the building?! i get those faa of a bittle cake of a real performer. although, it was a joke. these people are always using it our lane expert. the lamp is just because the last time a woman said that they have to go now!\n",
      "ed: i'll drive you.\n",
      "jerry: i know.\n",
      "george: i keep fined with the pecan.\n",
      "elaine: oh, i don't know how to be along the car .. i mean, i'm helpless, i'll tell you what to you don't go get, your meal look at this couch?\n",
      "jerry: you don't know the guy. (to the others) i'm telling you that if i don't even know the whole pest this thing.\n",
      "jerry: i don't know.\n",
      "kramer: i better take this place. you gotta pick us a year indits.\n",
      "jerry: i know, i know.\n",
      "jerry: i know.\n",
      "george: i know.\n",
      "elaine: i know.\n",
      "jerry: i know, i know.\n",
      "kramer: well, if you could do your comic diens.\n",
      "elaine: well, i mean it's only six them.\n",
      "kramer: oh, i keep forget the book.\n",
      "kramer: what tonight?\n",
      "kramer: the dating way from elaine the distus.\n",
      "jerry: well, it's a little bit smaller now. you know, i finally mean with a huge blow to make an impersonality, you can't call her. that's a violent in it.\n",
      "jerry: i know.\n",
      "george: i know.\n",
      "elaine: what do you go from the hospital? i mean i'm actually a few mile. i was thinking about it, there's a lot of people to mock.. we had a good time. i really think this is about the bottom of the phone with this lunatic in for some reason.\n",
      "jerry: well, if you want.\n",
      "george: i can't get into your head potato many plansing shotes\". what do you think their bar is lush?\n",
      "jerry: i don't know how to borry... okay. george costanza, he plays an airliner.\n",
      "george: what are you talking about?\n",
      "kramer: it's a slam with a few years. it's okay.\n",
      "jerry: i know.\n",
      "george: i know.\n",
      "elaine: i know.\n",
      "george: i keep fined with the right directions.\n",
      "jerry: i know, i know.\n",
      "jerry: i know, i know.\n",
      "jerry: i know.\n",
      "george: i know.\n",
      "jerry: i know, i know.\n",
      "jerry: i know.\n",
      "george: what do you go down there? (elaine gestures with his glass whee they got the cheque book and walks with real people always say that i killed her in a drive admisides. i don't want to think about the nose, forget the rest of the day.i got the mirror) you know, i looked here and the that was kidding.\n",
      "jerry: i know.\n",
      "george: i know, i know.\n",
      "jerry: i know, i know.\n",
      "jerry: i know, i know.\n",
      "jerry: i know, i know.\n",
      "jerry: i know.\n",
      "george: i know who you've been acting.\n",
      "jerry: i know, i know.\n",
      "jerry: i know, i know.\n",
      "jerry: i know, i know.\n",
      "jerry: i know, i know.\n",
      "jerry: i know.\n",
      "george: i know.\n",
      "jerry: i know, i know.\n",
      "jerry: i know, i know.\n",
      "george: i don't know.\n",
      "jerry: i know.\n",
      "george: i know.\n",
      "elaine: you know, i really want to meet the pecatic one?\n",
      "george: yeah, i know.\n",
      "jerry: i know, i know.\n",
      "jerry: i know.\n",
      "george: i keep fine. i'm going to tell you, i like her. he might know bad antonick around the pepsi, where's where.)\n",
      "jerry: (to elaine) you know, i love here in the building.\n",
      "elaine: oh, i know.\n",
      "jerry: i know, i know.\n",
      "jerry: i know.\n",
      "george: i know.\n",
      "elaine: i know.\n",
      "jerry: i know, i know.\n",
      "jerry: i know.\n",
      "george: i know.\n",
      "jerry: i know, i know.\n",
      "george: i can't go there. (laughing) get rid of that in the parking lot of ristweings. that's what i want. i'm gonna do it is farsi.\n",
      "joel: if you don't care about is the idea. the the drivel parts.. the made make their opens.\n",
      "jerry: well, if i call her, the waiter in it.\n",
      "jerry: well, if i call the notes before there was meeting this imaginitary monsoune, i personally have a cigarette in his mouth)\n",
      "kramer: oh, yeah. yeah. yeah. yeah. yeah. yeah. yeah. yeah. yeah. yeah. yeah. yeah. yeah. yeah. yeah. you could do your comic routines.\n",
      "jerry: well, it's a little bit smaller now. you know, i finally meet a normal man, and i jumped.\n",
      "george: oh, i found him. he didn't say anything.\n",
      "jerry: i know.\n",
      "george: i know.\n",
      "elaine: i'm on about it.\n",
      "jerry: i know, i know.\n",
      "jerry: i know, i know.\n",
      "jerry: i know.\n",
      "george: i know.\n",
      "elaine: i know.\n",
      "jerry: i know, i know.\n",
      "jerry: i know.\n",
      "george: i know.\n",
      "elaine: what do you go from the hospital? whatever i see?\n",
      "alton: (gesturing to george) you would see it any dinner and i don't know anything about him the flight and wa change the damage on the same thing they want.\n",
      "elaine: i can't believe it.\n",
      "jerry: well, if i really wanted to see how bedding accessoriot restaurant? what is that going to the game either?\n",
      "elaine: i know.\n",
      "jerry: i know, i know.\n",
      "jerry: i know.\n",
      "george: i know.\n",
      "elaine: i know.\n",
      "jerry: i know, i know.\n",
      "jerry: i know, i know.\n",
      "george: i keep fined with the pecan.\n",
      "elaine: oh, you're my hero!\n",
      "jerry: well, if you want.\n",
      "elaine: what do you go from that to a fly?\n",
      "george: (casually buttering a special paster with his watch) ...what's he doing here? i thought i was supposed to do this. i got the soup of flying, and you still do it is fly. (to the others) what's the difference, you know the way it's common courtesy. they both move you for a few minutes about what happened to me along problems on. and i go to the bathroom. (leaves)\n",
      "george: i don'\n"
     ]
    }
   ],
   "source": [
    "generated = open('../texts/char_level.txt', 'r').read()\n",
    "print(generated)"
   ]
  }
 ],
 "metadata": {
  "environment": {
   "name": "tf2-2-3-gpu.2-3.m59",
   "type": "gcloud",
   "uri": "gcr.io/deeplearning-platform-release/tf2-2-3-gpu.2-3:m59"
  },
  "kernelspec": {
   "display_name": "Python 3",
   "language": "python",
   "name": "python3"
  },
  "language_info": {
   "codemirror_mode": {
    "name": "ipython",
    "version": 3
   },
   "file_extension": ".py",
   "mimetype": "text/x-python",
   "name": "python",
   "nbconvert_exporter": "python",
   "pygments_lexer": "ipython3",
   "version": "3.7.8"
  }
 },
 "nbformat": 4,
 "nbformat_minor": 4
}
